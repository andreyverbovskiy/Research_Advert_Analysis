{
 "cells": [
  {
   "cell_type": "code",
   "execution_count": 1,
   "metadata": {},
   "outputs": [],
   "source": [
    "import pandas as pd\n",
    "import matplotlib.pyplot as plt\n",
    "import seaborn as sns\n",
    "import tensorflow as tf\n",
    "from tensorflow import keras\n",
    "from tensorflow.keras import layers\n",
    "from tensorflow.keras.models import Sequential\n",
    "from tensorflow.keras.layers import Dense, Activation\n",
    "from tensorflow.keras.layers.experimental import preprocessing\n",
    "from keras.optimizers import Adam\n",
    "from keras.layers import Dropout\n",
    "from keras import regularizers\n",
    "from sklearn import preprocessing\n",
    "from sklearn.metrics import classification_report, accuracy_score\n",
    "from sklearn.model_selection import train_test_split\n",
    "import time\n",
    "from datetime import datetime\n",
    "import numpy as np\n",
    "\n",
    "sns.set()"
   ]
  },
  {
   "cell_type": "markdown",
   "metadata": {},
   "source": [
    "# Training Data:"
   ]
  },
  {
   "cell_type": "code",
   "execution_count": 2,
   "metadata": {},
   "outputs": [],
   "source": [
    "#open data\n",
    "file1 = 'training_data.csv'\n",
    "sep =';'\n",
    "data = pd.read_csv(file1, sep)"
   ]
  },
  {
   "cell_type": "code",
   "execution_count": 5,
   "metadata": {},
   "outputs": [
    {
     "data": {
      "text/html": [
       "<div>\n",
       "<style scoped>\n",
       "    .dataframe tbody tr th:only-of-type {\n",
       "        vertical-align: middle;\n",
       "    }\n",
       "\n",
       "    .dataframe tbody tr th {\n",
       "        vertical-align: top;\n",
       "    }\n",
       "\n",
       "    .dataframe thead th {\n",
       "        text-align: right;\n",
       "    }\n",
       "</style>\n",
       "<table border=\"1\" class=\"dataframe\">\n",
       "  <thead>\n",
       "    <tr style=\"text-align: right;\">\n",
       "      <th></th>\n",
       "      <th>id</th>\n",
       "      <th>timestamp</th>\n",
       "      <th>campaignId</th>\n",
       "      <th>platform</th>\n",
       "      <th>softwareVersion</th>\n",
       "      <th>sourceGameId</th>\n",
       "      <th>country</th>\n",
       "      <th>startCount</th>\n",
       "      <th>viewCount</th>\n",
       "      <th>clickCount</th>\n",
       "      <th>installCount</th>\n",
       "      <th>lastStart</th>\n",
       "      <th>startCount1d</th>\n",
       "      <th>startCount7d</th>\n",
       "      <th>connectionType</th>\n",
       "      <th>install</th>\n",
       "    </tr>\n",
       "  </thead>\n",
       "  <tbody>\n",
       "    <tr>\n",
       "      <th>0</th>\n",
       "      <td>5c36658fb58fad351175f0b6</td>\n",
       "      <td>2019-01-09T21:20:15.943+00:00</td>\n",
       "      <td>59687f0d896a6b0e5ce6ea15</td>\n",
       "      <td>ios</td>\n",
       "      <td>11.4.1</td>\n",
       "      <td>1373094</td>\n",
       "      <td>US</td>\n",
       "      <td>25</td>\n",
       "      <td>24</td>\n",
       "      <td>0</td>\n",
       "      <td>2</td>\n",
       "      <td>2019-01-08T18:49:48.129+00:00</td>\n",
       "      <td>1</td>\n",
       "      <td>8</td>\n",
       "      <td>cellular</td>\n",
       "      <td>0</td>\n",
       "    </tr>\n",
       "    <tr>\n",
       "      <th>1</th>\n",
       "      <td>5c38d5ab1c16172870186b5a</td>\n",
       "      <td>2019-01-11T17:43:07.609+00:00</td>\n",
       "      <td>59687f0d896a6b0e5ce6ea15</td>\n",
       "      <td>ios</td>\n",
       "      <td>12.1</td>\n",
       "      <td>2739989</td>\n",
       "      <td>US</td>\n",
       "      <td>10</td>\n",
       "      <td>9</td>\n",
       "      <td>2</td>\n",
       "      <td>0</td>\n",
       "      <td>2019-01-09T21:20:22.855+00:00</td>\n",
       "      <td>1</td>\n",
       "      <td>4</td>\n",
       "      <td>cellular</td>\n",
       "      <td>0</td>\n",
       "    </tr>\n",
       "    <tr>\n",
       "      <th>2</th>\n",
       "      <td>5c38815de8f4e50e256e4f9c</td>\n",
       "      <td>2019-01-11T11:43:25.168+00:00</td>\n",
       "      <td>59687f0d896a6b0e5ce6ea15</td>\n",
       "      <td>ios</td>\n",
       "      <td>12.1.2</td>\n",
       "      <td>1373094</td>\n",
       "      <td>US</td>\n",
       "      <td>27</td>\n",
       "      <td>26</td>\n",
       "      <td>0</td>\n",
       "      <td>0</td>\n",
       "      <td>2019-01-09T10:42:08.446+00:00</td>\n",
       "      <td>1</td>\n",
       "      <td>2</td>\n",
       "      <td>cellular</td>\n",
       "      <td>0</td>\n",
       "    </tr>\n",
       "    <tr>\n",
       "      <th>3</th>\n",
       "      <td>5c409ace532d5806d2c6a5e6</td>\n",
       "      <td>2019-01-17T15:10:06.420+00:00</td>\n",
       "      <td>59687f0d896a6b0e5ce6ea15</td>\n",
       "      <td>ios</td>\n",
       "      <td>12.1.2</td>\n",
       "      <td>1217749</td>\n",
       "      <td>US</td>\n",
       "      <td>15</td>\n",
       "      <td>14</td>\n",
       "      <td>2</td>\n",
       "      <td>0</td>\n",
       "      <td>2019-01-16T19:58:11.636+00:00</td>\n",
       "      <td>3</td>\n",
       "      <td>14</td>\n",
       "      <td>wifi</td>\n",
       "      <td>0</td>\n",
       "    </tr>\n",
       "    <tr>\n",
       "      <th>4</th>\n",
       "      <td>5c3904b92d798c41e7f3088a</td>\n",
       "      <td>2019-01-11T21:03:53.145+00:00</td>\n",
       "      <td>59687f0d896a6b0e5ce6ea15</td>\n",
       "      <td>ios</td>\n",
       "      <td>12.0.1</td>\n",
       "      <td>1373094</td>\n",
       "      <td>US</td>\n",
       "      <td>20</td>\n",
       "      <td>18</td>\n",
       "      <td>0</td>\n",
       "      <td>0</td>\n",
       "      <td>2019-01-11T21:03:05.103+00:00</td>\n",
       "      <td>13</td>\n",
       "      <td>18</td>\n",
       "      <td>cellular</td>\n",
       "      <td>0</td>\n",
       "    </tr>\n",
       "    <tr>\n",
       "      <th>...</th>\n",
       "      <td>...</td>\n",
       "      <td>...</td>\n",
       "      <td>...</td>\n",
       "      <td>...</td>\n",
       "      <td>...</td>\n",
       "      <td>...</td>\n",
       "      <td>...</td>\n",
       "      <td>...</td>\n",
       "      <td>...</td>\n",
       "      <td>...</td>\n",
       "      <td>...</td>\n",
       "      <td>...</td>\n",
       "      <td>...</td>\n",
       "      <td>...</td>\n",
       "      <td>...</td>\n",
       "      <td>...</td>\n",
       "    </tr>\n",
       "    <tr>\n",
       "      <th>999996</th>\n",
       "      <td>5c37848b506a613d24e71bd9</td>\n",
       "      <td>2019-01-10T17:44:43.599+00:00</td>\n",
       "      <td>5c274de34888b8c2a58c7c41</td>\n",
       "      <td>android</td>\n",
       "      <td>4.4.2</td>\n",
       "      <td>1711292</td>\n",
       "      <td>FR</td>\n",
       "      <td>1</td>\n",
       "      <td>0</td>\n",
       "      <td>0</td>\n",
       "      <td>1</td>\n",
       "      <td>NaN</td>\n",
       "      <td>1</td>\n",
       "      <td>1</td>\n",
       "      <td>wifi</td>\n",
       "      <td>0</td>\n",
       "    </tr>\n",
       "    <tr>\n",
       "      <th>999997</th>\n",
       "      <td>5c379b885d84334749ee8325</td>\n",
       "      <td>2019-01-10T19:22:48.219+00:00</td>\n",
       "      <td>5c274de34888b8c2a58c7c41</td>\n",
       "      <td>android</td>\n",
       "      <td>7.0</td>\n",
       "      <td>2762289</td>\n",
       "      <td>RU</td>\n",
       "      <td>191</td>\n",
       "      <td>170</td>\n",
       "      <td>9</td>\n",
       "      <td>1</td>\n",
       "      <td>2019-01-10T19:21:18.451+00:00</td>\n",
       "      <td>14</td>\n",
       "      <td>15</td>\n",
       "      <td>cellular</td>\n",
       "      <td>0</td>\n",
       "    </tr>\n",
       "    <tr>\n",
       "      <th>999998</th>\n",
       "      <td>5c4176bf76bb2670bff40944</td>\n",
       "      <td>2019-01-18T06:48:31.720+00:00</td>\n",
       "      <td>5c274de34888b8c2a58c7c41</td>\n",
       "      <td>android</td>\n",
       "      <td>7.1.1</td>\n",
       "      <td>1152400</td>\n",
       "      <td>IT</td>\n",
       "      <td>14</td>\n",
       "      <td>12</td>\n",
       "      <td>0</td>\n",
       "      <td>0</td>\n",
       "      <td>2019-01-18T06:47:41.177+00:00</td>\n",
       "      <td>14</td>\n",
       "      <td>14</td>\n",
       "      <td>wifi</td>\n",
       "      <td>0</td>\n",
       "    </tr>\n",
       "    <tr>\n",
       "      <th>999999</th>\n",
       "      <td>5c3e481105f2b6db6607ee09</td>\n",
       "      <td>2019-01-15T20:52:33.014+00:00</td>\n",
       "      <td>5c274de34888b8c2a58c7c41</td>\n",
       "      <td>android</td>\n",
       "      <td>6.0</td>\n",
       "      <td>2700609</td>\n",
       "      <td>DE</td>\n",
       "      <td>41</td>\n",
       "      <td>10</td>\n",
       "      <td>3</td>\n",
       "      <td>0</td>\n",
       "      <td>2019-01-15T20:51:37.401+00:00</td>\n",
       "      <td>41</td>\n",
       "      <td>41</td>\n",
       "      <td>wifi</td>\n",
       "      <td>0</td>\n",
       "    </tr>\n",
       "    <tr>\n",
       "      <th>1000000</th>\n",
       "      <td>5c3b75a1e48cdb8ae1915a49</td>\n",
       "      <td>2019-01-13T17:30:09.159+00:00</td>\n",
       "      <td>5c274de34888b8c2a58c7c41</td>\n",
       "      <td>android</td>\n",
       "      <td>4.4.2</td>\n",
       "      <td>125832</td>\n",
       "      <td>ES</td>\n",
       "      <td>5</td>\n",
       "      <td>2</td>\n",
       "      <td>0</td>\n",
       "      <td>0</td>\n",
       "      <td>2018-12-24T11:24:06.723+00:00</td>\n",
       "      <td>1</td>\n",
       "      <td>1</td>\n",
       "      <td>wifi</td>\n",
       "      <td>0</td>\n",
       "    </tr>\n",
       "  </tbody>\n",
       "</table>\n",
       "<p>1000001 rows × 16 columns</p>\n",
       "</div>"
      ],
      "text/plain": [
       "                               id                      timestamp  \\\n",
       "0        5c36658fb58fad351175f0b6  2019-01-09T21:20:15.943+00:00   \n",
       "1        5c38d5ab1c16172870186b5a  2019-01-11T17:43:07.609+00:00   \n",
       "2        5c38815de8f4e50e256e4f9c  2019-01-11T11:43:25.168+00:00   \n",
       "3        5c409ace532d5806d2c6a5e6  2019-01-17T15:10:06.420+00:00   \n",
       "4        5c3904b92d798c41e7f3088a  2019-01-11T21:03:53.145+00:00   \n",
       "...                           ...                            ...   \n",
       "999996   5c37848b506a613d24e71bd9  2019-01-10T17:44:43.599+00:00   \n",
       "999997   5c379b885d84334749ee8325  2019-01-10T19:22:48.219+00:00   \n",
       "999998   5c4176bf76bb2670bff40944  2019-01-18T06:48:31.720+00:00   \n",
       "999999   5c3e481105f2b6db6607ee09  2019-01-15T20:52:33.014+00:00   \n",
       "1000000  5c3b75a1e48cdb8ae1915a49  2019-01-13T17:30:09.159+00:00   \n",
       "\n",
       "                       campaignId platform softwareVersion  sourceGameId  \\\n",
       "0        59687f0d896a6b0e5ce6ea15      ios          11.4.1       1373094   \n",
       "1        59687f0d896a6b0e5ce6ea15      ios            12.1       2739989   \n",
       "2        59687f0d896a6b0e5ce6ea15      ios          12.1.2       1373094   \n",
       "3        59687f0d896a6b0e5ce6ea15      ios          12.1.2       1217749   \n",
       "4        59687f0d896a6b0e5ce6ea15      ios          12.0.1       1373094   \n",
       "...                           ...      ...             ...           ...   \n",
       "999996   5c274de34888b8c2a58c7c41  android           4.4.2       1711292   \n",
       "999997   5c274de34888b8c2a58c7c41  android             7.0       2762289   \n",
       "999998   5c274de34888b8c2a58c7c41  android           7.1.1       1152400   \n",
       "999999   5c274de34888b8c2a58c7c41  android             6.0       2700609   \n",
       "1000000  5c274de34888b8c2a58c7c41  android           4.4.2        125832   \n",
       "\n",
       "        country  startCount  viewCount  clickCount  installCount  \\\n",
       "0            US          25         24           0             2   \n",
       "1            US          10          9           2             0   \n",
       "2            US          27         26           0             0   \n",
       "3            US          15         14           2             0   \n",
       "4            US          20         18           0             0   \n",
       "...         ...         ...        ...         ...           ...   \n",
       "999996       FR           1          0           0             1   \n",
       "999997       RU         191        170           9             1   \n",
       "999998       IT          14         12           0             0   \n",
       "999999       DE          41         10           3             0   \n",
       "1000000      ES           5          2           0             0   \n",
       "\n",
       "                             lastStart  startCount1d  startCount7d  \\\n",
       "0        2019-01-08T18:49:48.129+00:00             1             8   \n",
       "1        2019-01-09T21:20:22.855+00:00             1             4   \n",
       "2        2019-01-09T10:42:08.446+00:00             1             2   \n",
       "3        2019-01-16T19:58:11.636+00:00             3            14   \n",
       "4        2019-01-11T21:03:05.103+00:00            13            18   \n",
       "...                                ...           ...           ...   \n",
       "999996                             NaN             1             1   \n",
       "999997   2019-01-10T19:21:18.451+00:00            14            15   \n",
       "999998   2019-01-18T06:47:41.177+00:00            14            14   \n",
       "999999   2019-01-15T20:51:37.401+00:00            41            41   \n",
       "1000000  2018-12-24T11:24:06.723+00:00             1             1   \n",
       "\n",
       "        connectionType  install  \n",
       "0             cellular        0  \n",
       "1             cellular        0  \n",
       "2             cellular        0  \n",
       "3                 wifi        0  \n",
       "4             cellular        0  \n",
       "...                ...      ...  \n",
       "999996            wifi        0  \n",
       "999997        cellular        0  \n",
       "999998            wifi        0  \n",
       "999999            wifi        0  \n",
       "1000000           wifi        0  \n",
       "\n",
       "[1000001 rows x 16 columns]"
      ]
     },
     "execution_count": 5,
     "metadata": {},
     "output_type": "execute_result"
    }
   ],
   "source": [
    "data"
   ]
  },
  {
   "cell_type": "code",
   "execution_count": 6,
   "metadata": {},
   "outputs": [
    {
     "data": {
      "text/html": [
       "<div>\n",
       "<style scoped>\n",
       "    .dataframe tbody tr th:only-of-type {\n",
       "        vertical-align: middle;\n",
       "    }\n",
       "\n",
       "    .dataframe tbody tr th {\n",
       "        vertical-align: top;\n",
       "    }\n",
       "\n",
       "    .dataframe thead th {\n",
       "        text-align: right;\n",
       "    }\n",
       "</style>\n",
       "<table border=\"1\" class=\"dataframe\">\n",
       "  <thead>\n",
       "    <tr style=\"text-align: right;\">\n",
       "      <th></th>\n",
       "      <th>sourceGameId</th>\n",
       "      <th>startCount</th>\n",
       "      <th>viewCount</th>\n",
       "      <th>clickCount</th>\n",
       "      <th>installCount</th>\n",
       "      <th>startCount1d</th>\n",
       "      <th>startCount7d</th>\n",
       "      <th>install</th>\n",
       "    </tr>\n",
       "  </thead>\n",
       "  <tbody>\n",
       "    <tr>\n",
       "      <th>count</th>\n",
       "      <td>1.000001e+06</td>\n",
       "      <td>1000001.00</td>\n",
       "      <td>1000001.00</td>\n",
       "      <td>1000001.00</td>\n",
       "      <td>1000001.00</td>\n",
       "      <td>1000001.00</td>\n",
       "      <td>1000001.0</td>\n",
       "      <td>1000001.00</td>\n",
       "    </tr>\n",
       "    <tr>\n",
       "      <th>mean</th>\n",
       "      <td>3.114280e+06</td>\n",
       "      <td>46.14</td>\n",
       "      <td>34.26</td>\n",
       "      <td>2.04</td>\n",
       "      <td>0.54</td>\n",
       "      <td>6.47</td>\n",
       "      <td>18.8</td>\n",
       "      <td>0.01</td>\n",
       "    </tr>\n",
       "    <tr>\n",
       "      <th>std</th>\n",
       "      <td>1.397085e+07</td>\n",
       "      <td>87.89</td>\n",
       "      <td>76.56</td>\n",
       "      <td>6.71</td>\n",
       "      <td>1.51</td>\n",
       "      <td>11.13</td>\n",
       "      <td>34.0</td>\n",
       "      <td>0.12</td>\n",
       "    </tr>\n",
       "    <tr>\n",
       "      <th>min</th>\n",
       "      <td>1.105500e+04</td>\n",
       "      <td>1.00</td>\n",
       "      <td>0.00</td>\n",
       "      <td>0.00</td>\n",
       "      <td>0.00</td>\n",
       "      <td>1.00</td>\n",
       "      <td>1.0</td>\n",
       "      <td>0.00</td>\n",
       "    </tr>\n",
       "    <tr>\n",
       "      <th>25%</th>\n",
       "      <td>1.196472e+06</td>\n",
       "      <td>5.00</td>\n",
       "      <td>2.00</td>\n",
       "      <td>0.00</td>\n",
       "      <td>0.00</td>\n",
       "      <td>1.00</td>\n",
       "      <td>3.0</td>\n",
       "      <td>0.00</td>\n",
       "    </tr>\n",
       "    <tr>\n",
       "      <th>50%</th>\n",
       "      <td>1.623384e+06</td>\n",
       "      <td>17.00</td>\n",
       "      <td>9.00</td>\n",
       "      <td>0.00</td>\n",
       "      <td>0.00</td>\n",
       "      <td>3.00</td>\n",
       "      <td>8.0</td>\n",
       "      <td>0.00</td>\n",
       "    </tr>\n",
       "    <tr>\n",
       "      <th>75%</th>\n",
       "      <td>2.633648e+06</td>\n",
       "      <td>50.00</td>\n",
       "      <td>32.00</td>\n",
       "      <td>2.00</td>\n",
       "      <td>0.00</td>\n",
       "      <td>7.00</td>\n",
       "      <td>21.0</td>\n",
       "      <td>0.00</td>\n",
       "    </tr>\n",
       "    <tr>\n",
       "      <th>max</th>\n",
       "      <td>1.316274e+08</td>\n",
       "      <td>3997.00</td>\n",
       "      <td>2886.00</td>\n",
       "      <td>1031.00</td>\n",
       "      <td>73.00</td>\n",
       "      <td>1202.00</td>\n",
       "      <td>3280.0</td>\n",
       "      <td>1.00</td>\n",
       "    </tr>\n",
       "  </tbody>\n",
       "</table>\n",
       "</div>"
      ],
      "text/plain": [
       "       sourceGameId  startCount   viewCount  clickCount  installCount  \\\n",
       "count  1.000001e+06  1000001.00  1000001.00  1000001.00    1000001.00   \n",
       "mean   3.114280e+06       46.14       34.26        2.04          0.54   \n",
       "std    1.397085e+07       87.89       76.56        6.71          1.51   \n",
       "min    1.105500e+04        1.00        0.00        0.00          0.00   \n",
       "25%    1.196472e+06        5.00        2.00        0.00          0.00   \n",
       "50%    1.623384e+06       17.00        9.00        0.00          0.00   \n",
       "75%    2.633648e+06       50.00       32.00        2.00          0.00   \n",
       "max    1.316274e+08     3997.00     2886.00     1031.00         73.00   \n",
       "\n",
       "       startCount1d  startCount7d     install  \n",
       "count    1000001.00     1000001.0  1000001.00  \n",
       "mean           6.47          18.8        0.01  \n",
       "std           11.13          34.0        0.12  \n",
       "min            1.00           1.0        0.00  \n",
       "25%            1.00           3.0        0.00  \n",
       "50%            3.00           8.0        0.00  \n",
       "75%            7.00          21.0        0.00  \n",
       "max         1202.00        3280.0        1.00  "
      ]
     },
     "execution_count": 6,
     "metadata": {},
     "output_type": "execute_result"
    }
   ],
   "source": [
    "data.describe().round(2)"
   ]
  },
  {
   "cell_type": "code",
   "execution_count": 7,
   "metadata": {},
   "outputs": [
    {
     "data": {
      "text/plain": [
       "id                     0\n",
       "timestamp              0\n",
       "campaignId             0\n",
       "platform               0\n",
       "softwareVersion        0\n",
       "sourceGameId           0\n",
       "country               39\n",
       "startCount             0\n",
       "viewCount              0\n",
       "clickCount             0\n",
       "installCount           0\n",
       "lastStart          78824\n",
       "startCount1d           0\n",
       "startCount7d           0\n",
       "connectionType         0\n",
       "install                0\n",
       "dtype: int64"
      ]
     },
     "execution_count": 7,
     "metadata": {},
     "output_type": "execute_result"
    }
   ],
   "source": [
    "#looking for missing values\n",
    "data.isna().sum()"
   ]
  },
  {
   "cell_type": "code",
   "execution_count": 8,
   "metadata": {},
   "outputs": [],
   "source": [
    "#drop all samples with missing values as missing values hurt the main investigation\n",
    "data = data.dropna()"
   ]
  },
  {
   "cell_type": "code",
   "execution_count": 9,
   "metadata": {},
   "outputs": [
    {
     "data": {
      "text/plain": [
       "id                 0\n",
       "timestamp          0\n",
       "campaignId         0\n",
       "platform           0\n",
       "softwareVersion    0\n",
       "sourceGameId       0\n",
       "country            0\n",
       "startCount         0\n",
       "viewCount          0\n",
       "clickCount         0\n",
       "installCount       0\n",
       "lastStart          0\n",
       "startCount1d       0\n",
       "startCount7d       0\n",
       "connectionType     0\n",
       "install            0\n",
       "dtype: int64"
      ]
     },
     "execution_count": 9,
     "metadata": {},
     "output_type": "execute_result"
    }
   ],
   "source": [
    "data.isna().sum()"
   ]
  },
  {
   "cell_type": "code",
   "execution_count": 10,
   "metadata": {},
   "outputs": [
    {
     "data": {
      "text/plain": [
       "id                 object\n",
       "timestamp          object\n",
       "campaignId         object\n",
       "platform           object\n",
       "softwareVersion    object\n",
       "sourceGameId        int64\n",
       "country            object\n",
       "startCount          int64\n",
       "viewCount           int64\n",
       "clickCount          int64\n",
       "installCount        int64\n",
       "lastStart          object\n",
       "startCount1d        int64\n",
       "startCount7d        int64\n",
       "connectionType     object\n",
       "install             int64\n",
       "dtype: object"
      ]
     },
     "execution_count": 10,
     "metadata": {},
     "output_type": "execute_result"
    }
   ],
   "source": [
    "#check the data types\n",
    "data.dtypes"
   ]
  },
  {
   "cell_type": "code",
   "execution_count": 11,
   "metadata": {},
   "outputs": [
    {
     "data": {
      "text/plain": [
       "0    908976\n",
       "1     12167\n",
       "Name: install, dtype: int64"
      ]
     },
     "execution_count": 11,
     "metadata": {},
     "output_type": "execute_result"
    }
   ],
   "source": [
    "data['install'].value_counts()"
   ]
  },
  {
   "cell_type": "code",
   "execution_count": 12,
   "metadata": {},
   "outputs": [
    {
     "name": "stderr",
     "output_type": "stream",
     "text": [
      "C:\\Users\\averb\\anaconda3\\envs\\tf\\lib\\site-packages\\pandas\\core\\series.py:4479: SettingWithCopyWarning: \n",
      "A value is trying to be set on a copy of a slice from a DataFrame\n",
      "\n",
      "See the caveats in the documentation: https://pandas.pydata.org/pandas-docs/stable/user_guide/indexing.html#returning-a-view-versus-a-copy\n",
      "  return super().replace(\n"
     ]
    }
   ],
   "source": [
    "#replacing default values with numerical ones\n",
    "data['platform'].replace(['ios', 'android'], [0,1], inplace=True)\n",
    "data['connectionType'].replace(['cellular', 'wifi', 'none'], [0,1,2], inplace=True)\n"
   ]
  },
  {
   "cell_type": "code",
   "execution_count": 13,
   "metadata": {},
   "outputs": [],
   "source": [
    "softwareVersion_unique_values = data['softwareVersion'].unique()"
   ]
  },
  {
   "cell_type": "code",
   "execution_count": 14,
   "metadata": {},
   "outputs": [],
   "source": [
    "data['softwareVersion'].replace(softwareVersion_unique_values, np.arange(0,len(softwareVersion_unique_values),1), inplace=True)"
   ]
  },
  {
   "cell_type": "code",
   "execution_count": 15,
   "metadata": {},
   "outputs": [],
   "source": [
    "sourceGameId_unique_values = data['sourceGameId'].unique()"
   ]
  },
  {
   "cell_type": "code",
   "execution_count": 16,
   "metadata": {},
   "outputs": [],
   "source": [
    "country_unique_values = data['country'].unique()\n",
    "\n",
    "data['country'].replace(country_unique_values, np.arange(0,len(country_unique_values),1), inplace=True)"
   ]
  },
  {
   "cell_type": "code",
   "execution_count": 17,
   "metadata": {},
   "outputs": [
    {
     "data": {
      "text/plain": [
       "id                 object\n",
       "timestamp          object\n",
       "campaignId         object\n",
       "platform            int64\n",
       "softwareVersion     int64\n",
       "sourceGameId        int64\n",
       "country             int64\n",
       "startCount          int64\n",
       "viewCount           int64\n",
       "clickCount          int64\n",
       "installCount        int64\n",
       "lastStart          object\n",
       "startCount1d        int64\n",
       "startCount7d        int64\n",
       "connectionType      int64\n",
       "install             int64\n",
       "dtype: object"
      ]
     },
     "execution_count": 17,
     "metadata": {},
     "output_type": "execute_result"
    }
   ],
   "source": [
    "data.dtypes"
   ]
  },
  {
   "cell_type": "code",
   "execution_count": 18,
   "metadata": {},
   "outputs": [],
   "source": [
    "campaignId_unique_values = data['campaignId'].unique()\n",
    "a = np.arange(0,len(campaignId_unique_values),1)\n",
    "data['campaignId'].replace(campaignId_unique_values, a, inplace=True)"
   ]
  },
  {
   "cell_type": "code",
   "execution_count": 19,
   "metadata": {},
   "outputs": [
    {
     "data": {
      "text/html": [
       "<div>\n",
       "<style scoped>\n",
       "    .dataframe tbody tr th:only-of-type {\n",
       "        vertical-align: middle;\n",
       "    }\n",
       "\n",
       "    .dataframe tbody tr th {\n",
       "        vertical-align: top;\n",
       "    }\n",
       "\n",
       "    .dataframe thead th {\n",
       "        text-align: right;\n",
       "    }\n",
       "</style>\n",
       "<table border=\"1\" class=\"dataframe\">\n",
       "  <thead>\n",
       "    <tr style=\"text-align: right;\">\n",
       "      <th></th>\n",
       "      <th>id</th>\n",
       "      <th>timestamp</th>\n",
       "      <th>campaignId</th>\n",
       "      <th>platform</th>\n",
       "      <th>softwareVersion</th>\n",
       "      <th>sourceGameId</th>\n",
       "      <th>country</th>\n",
       "      <th>startCount</th>\n",
       "      <th>viewCount</th>\n",
       "      <th>clickCount</th>\n",
       "      <th>installCount</th>\n",
       "      <th>lastStart</th>\n",
       "      <th>startCount1d</th>\n",
       "      <th>startCount7d</th>\n",
       "      <th>connectionType</th>\n",
       "      <th>install</th>\n",
       "    </tr>\n",
       "  </thead>\n",
       "  <tbody>\n",
       "    <tr>\n",
       "      <th>0</th>\n",
       "      <td>5c36658fb58fad351175f0b6</td>\n",
       "      <td>2019-01-09T21:20:15.943+00:00</td>\n",
       "      <td>0</td>\n",
       "      <td>0</td>\n",
       "      <td>0</td>\n",
       "      <td>1373094</td>\n",
       "      <td>0</td>\n",
       "      <td>25</td>\n",
       "      <td>24</td>\n",
       "      <td>0</td>\n",
       "      <td>2</td>\n",
       "      <td>2019-01-08T18:49:48.129+00:00</td>\n",
       "      <td>1</td>\n",
       "      <td>8</td>\n",
       "      <td>0</td>\n",
       "      <td>0</td>\n",
       "    </tr>\n",
       "    <tr>\n",
       "      <th>1</th>\n",
       "      <td>5c38d5ab1c16172870186b5a</td>\n",
       "      <td>2019-01-11T17:43:07.609+00:00</td>\n",
       "      <td>0</td>\n",
       "      <td>0</td>\n",
       "      <td>1</td>\n",
       "      <td>2739989</td>\n",
       "      <td>0</td>\n",
       "      <td>10</td>\n",
       "      <td>9</td>\n",
       "      <td>2</td>\n",
       "      <td>0</td>\n",
       "      <td>2019-01-09T21:20:22.855+00:00</td>\n",
       "      <td>1</td>\n",
       "      <td>4</td>\n",
       "      <td>0</td>\n",
       "      <td>0</td>\n",
       "    </tr>\n",
       "    <tr>\n",
       "      <th>2</th>\n",
       "      <td>5c38815de8f4e50e256e4f9c</td>\n",
       "      <td>2019-01-11T11:43:25.168+00:00</td>\n",
       "      <td>0</td>\n",
       "      <td>0</td>\n",
       "      <td>2</td>\n",
       "      <td>1373094</td>\n",
       "      <td>0</td>\n",
       "      <td>27</td>\n",
       "      <td>26</td>\n",
       "      <td>0</td>\n",
       "      <td>0</td>\n",
       "      <td>2019-01-09T10:42:08.446+00:00</td>\n",
       "      <td>1</td>\n",
       "      <td>2</td>\n",
       "      <td>0</td>\n",
       "      <td>0</td>\n",
       "    </tr>\n",
       "    <tr>\n",
       "      <th>3</th>\n",
       "      <td>5c409ace532d5806d2c6a5e6</td>\n",
       "      <td>2019-01-17T15:10:06.420+00:00</td>\n",
       "      <td>0</td>\n",
       "      <td>0</td>\n",
       "      <td>2</td>\n",
       "      <td>1217749</td>\n",
       "      <td>0</td>\n",
       "      <td>15</td>\n",
       "      <td>14</td>\n",
       "      <td>2</td>\n",
       "      <td>0</td>\n",
       "      <td>2019-01-16T19:58:11.636+00:00</td>\n",
       "      <td>3</td>\n",
       "      <td>14</td>\n",
       "      <td>1</td>\n",
       "      <td>0</td>\n",
       "    </tr>\n",
       "    <tr>\n",
       "      <th>4</th>\n",
       "      <td>5c3904b92d798c41e7f3088a</td>\n",
       "      <td>2019-01-11T21:03:53.145+00:00</td>\n",
       "      <td>0</td>\n",
       "      <td>0</td>\n",
       "      <td>3</td>\n",
       "      <td>1373094</td>\n",
       "      <td>0</td>\n",
       "      <td>20</td>\n",
       "      <td>18</td>\n",
       "      <td>0</td>\n",
       "      <td>0</td>\n",
       "      <td>2019-01-11T21:03:05.103+00:00</td>\n",
       "      <td>13</td>\n",
       "      <td>18</td>\n",
       "      <td>0</td>\n",
       "      <td>0</td>\n",
       "    </tr>\n",
       "    <tr>\n",
       "      <th>...</th>\n",
       "      <td>...</td>\n",
       "      <td>...</td>\n",
       "      <td>...</td>\n",
       "      <td>...</td>\n",
       "      <td>...</td>\n",
       "      <td>...</td>\n",
       "      <td>...</td>\n",
       "      <td>...</td>\n",
       "      <td>...</td>\n",
       "      <td>...</td>\n",
       "      <td>...</td>\n",
       "      <td>...</td>\n",
       "      <td>...</td>\n",
       "      <td>...</td>\n",
       "      <td>...</td>\n",
       "      <td>...</td>\n",
       "    </tr>\n",
       "    <tr>\n",
       "      <th>999995</th>\n",
       "      <td>5c34c1f60c3e37265e30c16b</td>\n",
       "      <td>2019-01-08T15:29:58.107+00:00</td>\n",
       "      <td>2327</td>\n",
       "      <td>1</td>\n",
       "      <td>13</td>\n",
       "      <td>2674503</td>\n",
       "      <td>6</td>\n",
       "      <td>10</td>\n",
       "      <td>8</td>\n",
       "      <td>1</td>\n",
       "      <td>0</td>\n",
       "      <td>2019-01-08T15:22:35.547+00:00</td>\n",
       "      <td>10</td>\n",
       "      <td>10</td>\n",
       "      <td>1</td>\n",
       "      <td>0</td>\n",
       "    </tr>\n",
       "    <tr>\n",
       "      <th>999997</th>\n",
       "      <td>5c379b885d84334749ee8325</td>\n",
       "      <td>2019-01-10T19:22:48.219+00:00</td>\n",
       "      <td>2327</td>\n",
       "      <td>1</td>\n",
       "      <td>12</td>\n",
       "      <td>2762289</td>\n",
       "      <td>6</td>\n",
       "      <td>191</td>\n",
       "      <td>170</td>\n",
       "      <td>9</td>\n",
       "      <td>1</td>\n",
       "      <td>2019-01-10T19:21:18.451+00:00</td>\n",
       "      <td>14</td>\n",
       "      <td>15</td>\n",
       "      <td>0</td>\n",
       "      <td>0</td>\n",
       "    </tr>\n",
       "    <tr>\n",
       "      <th>999998</th>\n",
       "      <td>5c4176bf76bb2670bff40944</td>\n",
       "      <td>2019-01-18T06:48:31.720+00:00</td>\n",
       "      <td>2327</td>\n",
       "      <td>1</td>\n",
       "      <td>10</td>\n",
       "      <td>1152400</td>\n",
       "      <td>9</td>\n",
       "      <td>14</td>\n",
       "      <td>12</td>\n",
       "      <td>0</td>\n",
       "      <td>0</td>\n",
       "      <td>2019-01-18T06:47:41.177+00:00</td>\n",
       "      <td>14</td>\n",
       "      <td>14</td>\n",
       "      <td>1</td>\n",
       "      <td>0</td>\n",
       "    </tr>\n",
       "    <tr>\n",
       "      <th>999999</th>\n",
       "      <td>5c3e481105f2b6db6607ee09</td>\n",
       "      <td>2019-01-15T20:52:33.014+00:00</td>\n",
       "      <td>2327</td>\n",
       "      <td>1</td>\n",
       "      <td>20</td>\n",
       "      <td>2700609</td>\n",
       "      <td>11</td>\n",
       "      <td>41</td>\n",
       "      <td>10</td>\n",
       "      <td>3</td>\n",
       "      <td>0</td>\n",
       "      <td>2019-01-15T20:51:37.401+00:00</td>\n",
       "      <td>41</td>\n",
       "      <td>41</td>\n",
       "      <td>1</td>\n",
       "      <td>0</td>\n",
       "    </tr>\n",
       "    <tr>\n",
       "      <th>1000000</th>\n",
       "      <td>5c3b75a1e48cdb8ae1915a49</td>\n",
       "      <td>2019-01-13T17:30:09.159+00:00</td>\n",
       "      <td>2327</td>\n",
       "      <td>1</td>\n",
       "      <td>13</td>\n",
       "      <td>125832</td>\n",
       "      <td>12</td>\n",
       "      <td>5</td>\n",
       "      <td>2</td>\n",
       "      <td>0</td>\n",
       "      <td>0</td>\n",
       "      <td>2018-12-24T11:24:06.723+00:00</td>\n",
       "      <td>1</td>\n",
       "      <td>1</td>\n",
       "      <td>1</td>\n",
       "      <td>0</td>\n",
       "    </tr>\n",
       "  </tbody>\n",
       "</table>\n",
       "<p>921143 rows × 16 columns</p>\n",
       "</div>"
      ],
      "text/plain": [
       "                               id                      timestamp  campaignId  \\\n",
       "0        5c36658fb58fad351175f0b6  2019-01-09T21:20:15.943+00:00           0   \n",
       "1        5c38d5ab1c16172870186b5a  2019-01-11T17:43:07.609+00:00           0   \n",
       "2        5c38815de8f4e50e256e4f9c  2019-01-11T11:43:25.168+00:00           0   \n",
       "3        5c409ace532d5806d2c6a5e6  2019-01-17T15:10:06.420+00:00           0   \n",
       "4        5c3904b92d798c41e7f3088a  2019-01-11T21:03:53.145+00:00           0   \n",
       "...                           ...                            ...         ...   \n",
       "999995   5c34c1f60c3e37265e30c16b  2019-01-08T15:29:58.107+00:00        2327   \n",
       "999997   5c379b885d84334749ee8325  2019-01-10T19:22:48.219+00:00        2327   \n",
       "999998   5c4176bf76bb2670bff40944  2019-01-18T06:48:31.720+00:00        2327   \n",
       "999999   5c3e481105f2b6db6607ee09  2019-01-15T20:52:33.014+00:00        2327   \n",
       "1000000  5c3b75a1e48cdb8ae1915a49  2019-01-13T17:30:09.159+00:00        2327   \n",
       "\n",
       "         platform  softwareVersion  sourceGameId  country  startCount  \\\n",
       "0               0                0       1373094        0          25   \n",
       "1               0                1       2739989        0          10   \n",
       "2               0                2       1373094        0          27   \n",
       "3               0                2       1217749        0          15   \n",
       "4               0                3       1373094        0          20   \n",
       "...           ...              ...           ...      ...         ...   \n",
       "999995          1               13       2674503        6          10   \n",
       "999997          1               12       2762289        6         191   \n",
       "999998          1               10       1152400        9          14   \n",
       "999999          1               20       2700609       11          41   \n",
       "1000000         1               13        125832       12           5   \n",
       "\n",
       "         viewCount  clickCount  installCount                      lastStart  \\\n",
       "0               24           0             2  2019-01-08T18:49:48.129+00:00   \n",
       "1                9           2             0  2019-01-09T21:20:22.855+00:00   \n",
       "2               26           0             0  2019-01-09T10:42:08.446+00:00   \n",
       "3               14           2             0  2019-01-16T19:58:11.636+00:00   \n",
       "4               18           0             0  2019-01-11T21:03:05.103+00:00   \n",
       "...            ...         ...           ...                            ...   \n",
       "999995           8           1             0  2019-01-08T15:22:35.547+00:00   \n",
       "999997         170           9             1  2019-01-10T19:21:18.451+00:00   \n",
       "999998          12           0             0  2019-01-18T06:47:41.177+00:00   \n",
       "999999          10           3             0  2019-01-15T20:51:37.401+00:00   \n",
       "1000000          2           0             0  2018-12-24T11:24:06.723+00:00   \n",
       "\n",
       "         startCount1d  startCount7d  connectionType  install  \n",
       "0                   1             8               0        0  \n",
       "1                   1             4               0        0  \n",
       "2                   1             2               0        0  \n",
       "3                   3            14               1        0  \n",
       "4                  13            18               0        0  \n",
       "...               ...           ...             ...      ...  \n",
       "999995             10            10               1        0  \n",
       "999997             14            15               0        0  \n",
       "999998             14            14               1        0  \n",
       "999999             41            41               1        0  \n",
       "1000000             1             1               1        0  \n",
       "\n",
       "[921143 rows x 16 columns]"
      ]
     },
     "execution_count": 19,
     "metadata": {},
     "output_type": "execute_result"
    }
   ],
   "source": [
    "data"
   ]
  },
  {
   "cell_type": "code",
   "execution_count": 20,
   "metadata": {},
   "outputs": [
    {
     "name": "stdout",
     "output_type": "stream",
     "text": [
      "2019-01-09T21:20:15.943+00:00\n"
     ]
    },
    {
     "data": {
      "text/plain": [
       "1547068815.943"
      ]
     },
     "execution_count": 20,
     "metadata": {},
     "output_type": "execute_result"
    }
   ],
   "source": [
    "b =data['timestamp'][0]\n",
    "ts1 = pd.Timestamp(b, tz='utc').timestamp()\n",
    "print(b)\n",
    "ts1"
   ]
  },
  {
   "cell_type": "code",
   "execution_count": 21,
   "metadata": {},
   "outputs": [],
   "source": [
    "#function to convert the time into numerical timestamp\n",
    "def time_convert(x):\n",
    "    try:\n",
    "        return pd.Timestamp(x, tz='utc').timestamp()\n",
    "    except:\n",
    "        return x\n",
    "   "
   ]
  },
  {
   "cell_type": "code",
   "execution_count": 22,
   "metadata": {},
   "outputs": [
    {
     "name": "stderr",
     "output_type": "stream",
     "text": [
      "<ipython-input-22-2ad37ad99416>:1: SettingWithCopyWarning: \n",
      "A value is trying to be set on a copy of a slice from a DataFrame.\n",
      "Try using .loc[row_indexer,col_indexer] = value instead\n",
      "\n",
      "See the caveats in the documentation: https://pandas.pydata.org/pandas-docs/stable/user_guide/indexing.html#returning-a-view-versus-a-copy\n",
      "  data['timestamp'] = data['timestamp'].apply(time_convert)\n"
     ]
    }
   ],
   "source": [
    "data['timestamp'] = data['timestamp'].apply(time_convert)"
   ]
  },
  {
   "cell_type": "code",
   "execution_count": 23,
   "metadata": {
    "scrolled": true
   },
   "outputs": [
    {
     "data": {
      "text/html": [
       "<div>\n",
       "<style scoped>\n",
       "    .dataframe tbody tr th:only-of-type {\n",
       "        vertical-align: middle;\n",
       "    }\n",
       "\n",
       "    .dataframe tbody tr th {\n",
       "        vertical-align: top;\n",
       "    }\n",
       "\n",
       "    .dataframe thead th {\n",
       "        text-align: right;\n",
       "    }\n",
       "</style>\n",
       "<table border=\"1\" class=\"dataframe\">\n",
       "  <thead>\n",
       "    <tr style=\"text-align: right;\">\n",
       "      <th></th>\n",
       "      <th>id</th>\n",
       "      <th>timestamp</th>\n",
       "      <th>campaignId</th>\n",
       "      <th>platform</th>\n",
       "      <th>softwareVersion</th>\n",
       "      <th>sourceGameId</th>\n",
       "      <th>country</th>\n",
       "      <th>startCount</th>\n",
       "      <th>viewCount</th>\n",
       "      <th>clickCount</th>\n",
       "      <th>installCount</th>\n",
       "      <th>lastStart</th>\n",
       "      <th>startCount1d</th>\n",
       "      <th>startCount7d</th>\n",
       "      <th>connectionType</th>\n",
       "      <th>install</th>\n",
       "    </tr>\n",
       "  </thead>\n",
       "  <tbody>\n",
       "    <tr>\n",
       "      <th>0</th>\n",
       "      <td>5c36658fb58fad351175f0b6</td>\n",
       "      <td>1.547069e+09</td>\n",
       "      <td>0</td>\n",
       "      <td>0</td>\n",
       "      <td>0</td>\n",
       "      <td>1373094</td>\n",
       "      <td>0</td>\n",
       "      <td>25</td>\n",
       "      <td>24</td>\n",
       "      <td>0</td>\n",
       "      <td>2</td>\n",
       "      <td>2019-01-08T18:49:48.129+00:00</td>\n",
       "      <td>1</td>\n",
       "      <td>8</td>\n",
       "      <td>0</td>\n",
       "      <td>0</td>\n",
       "    </tr>\n",
       "    <tr>\n",
       "      <th>1</th>\n",
       "      <td>5c38d5ab1c16172870186b5a</td>\n",
       "      <td>1.547229e+09</td>\n",
       "      <td>0</td>\n",
       "      <td>0</td>\n",
       "      <td>1</td>\n",
       "      <td>2739989</td>\n",
       "      <td>0</td>\n",
       "      <td>10</td>\n",
       "      <td>9</td>\n",
       "      <td>2</td>\n",
       "      <td>0</td>\n",
       "      <td>2019-01-09T21:20:22.855+00:00</td>\n",
       "      <td>1</td>\n",
       "      <td>4</td>\n",
       "      <td>0</td>\n",
       "      <td>0</td>\n",
       "    </tr>\n",
       "    <tr>\n",
       "      <th>2</th>\n",
       "      <td>5c38815de8f4e50e256e4f9c</td>\n",
       "      <td>1.547207e+09</td>\n",
       "      <td>0</td>\n",
       "      <td>0</td>\n",
       "      <td>2</td>\n",
       "      <td>1373094</td>\n",
       "      <td>0</td>\n",
       "      <td>27</td>\n",
       "      <td>26</td>\n",
       "      <td>0</td>\n",
       "      <td>0</td>\n",
       "      <td>2019-01-09T10:42:08.446+00:00</td>\n",
       "      <td>1</td>\n",
       "      <td>2</td>\n",
       "      <td>0</td>\n",
       "      <td>0</td>\n",
       "    </tr>\n",
       "    <tr>\n",
       "      <th>3</th>\n",
       "      <td>5c409ace532d5806d2c6a5e6</td>\n",
       "      <td>1.547738e+09</td>\n",
       "      <td>0</td>\n",
       "      <td>0</td>\n",
       "      <td>2</td>\n",
       "      <td>1217749</td>\n",
       "      <td>0</td>\n",
       "      <td>15</td>\n",
       "      <td>14</td>\n",
       "      <td>2</td>\n",
       "      <td>0</td>\n",
       "      <td>2019-01-16T19:58:11.636+00:00</td>\n",
       "      <td>3</td>\n",
       "      <td>14</td>\n",
       "      <td>1</td>\n",
       "      <td>0</td>\n",
       "    </tr>\n",
       "    <tr>\n",
       "      <th>4</th>\n",
       "      <td>5c3904b92d798c41e7f3088a</td>\n",
       "      <td>1.547241e+09</td>\n",
       "      <td>0</td>\n",
       "      <td>0</td>\n",
       "      <td>3</td>\n",
       "      <td>1373094</td>\n",
       "      <td>0</td>\n",
       "      <td>20</td>\n",
       "      <td>18</td>\n",
       "      <td>0</td>\n",
       "      <td>0</td>\n",
       "      <td>2019-01-11T21:03:05.103+00:00</td>\n",
       "      <td>13</td>\n",
       "      <td>18</td>\n",
       "      <td>0</td>\n",
       "      <td>0</td>\n",
       "    </tr>\n",
       "    <tr>\n",
       "      <th>...</th>\n",
       "      <td>...</td>\n",
       "      <td>...</td>\n",
       "      <td>...</td>\n",
       "      <td>...</td>\n",
       "      <td>...</td>\n",
       "      <td>...</td>\n",
       "      <td>...</td>\n",
       "      <td>...</td>\n",
       "      <td>...</td>\n",
       "      <td>...</td>\n",
       "      <td>...</td>\n",
       "      <td>...</td>\n",
       "      <td>...</td>\n",
       "      <td>...</td>\n",
       "      <td>...</td>\n",
       "      <td>...</td>\n",
       "    </tr>\n",
       "    <tr>\n",
       "      <th>999995</th>\n",
       "      <td>5c34c1f60c3e37265e30c16b</td>\n",
       "      <td>1.546961e+09</td>\n",
       "      <td>2327</td>\n",
       "      <td>1</td>\n",
       "      <td>13</td>\n",
       "      <td>2674503</td>\n",
       "      <td>6</td>\n",
       "      <td>10</td>\n",
       "      <td>8</td>\n",
       "      <td>1</td>\n",
       "      <td>0</td>\n",
       "      <td>2019-01-08T15:22:35.547+00:00</td>\n",
       "      <td>10</td>\n",
       "      <td>10</td>\n",
       "      <td>1</td>\n",
       "      <td>0</td>\n",
       "    </tr>\n",
       "    <tr>\n",
       "      <th>999997</th>\n",
       "      <td>5c379b885d84334749ee8325</td>\n",
       "      <td>1.547148e+09</td>\n",
       "      <td>2327</td>\n",
       "      <td>1</td>\n",
       "      <td>12</td>\n",
       "      <td>2762289</td>\n",
       "      <td>6</td>\n",
       "      <td>191</td>\n",
       "      <td>170</td>\n",
       "      <td>9</td>\n",
       "      <td>1</td>\n",
       "      <td>2019-01-10T19:21:18.451+00:00</td>\n",
       "      <td>14</td>\n",
       "      <td>15</td>\n",
       "      <td>0</td>\n",
       "      <td>0</td>\n",
       "    </tr>\n",
       "    <tr>\n",
       "      <th>999998</th>\n",
       "      <td>5c4176bf76bb2670bff40944</td>\n",
       "      <td>1.547794e+09</td>\n",
       "      <td>2327</td>\n",
       "      <td>1</td>\n",
       "      <td>10</td>\n",
       "      <td>1152400</td>\n",
       "      <td>9</td>\n",
       "      <td>14</td>\n",
       "      <td>12</td>\n",
       "      <td>0</td>\n",
       "      <td>0</td>\n",
       "      <td>2019-01-18T06:47:41.177+00:00</td>\n",
       "      <td>14</td>\n",
       "      <td>14</td>\n",
       "      <td>1</td>\n",
       "      <td>0</td>\n",
       "    </tr>\n",
       "    <tr>\n",
       "      <th>999999</th>\n",
       "      <td>5c3e481105f2b6db6607ee09</td>\n",
       "      <td>1.547586e+09</td>\n",
       "      <td>2327</td>\n",
       "      <td>1</td>\n",
       "      <td>20</td>\n",
       "      <td>2700609</td>\n",
       "      <td>11</td>\n",
       "      <td>41</td>\n",
       "      <td>10</td>\n",
       "      <td>3</td>\n",
       "      <td>0</td>\n",
       "      <td>2019-01-15T20:51:37.401+00:00</td>\n",
       "      <td>41</td>\n",
       "      <td>41</td>\n",
       "      <td>1</td>\n",
       "      <td>0</td>\n",
       "    </tr>\n",
       "    <tr>\n",
       "      <th>1000000</th>\n",
       "      <td>5c3b75a1e48cdb8ae1915a49</td>\n",
       "      <td>1.547401e+09</td>\n",
       "      <td>2327</td>\n",
       "      <td>1</td>\n",
       "      <td>13</td>\n",
       "      <td>125832</td>\n",
       "      <td>12</td>\n",
       "      <td>5</td>\n",
       "      <td>2</td>\n",
       "      <td>0</td>\n",
       "      <td>0</td>\n",
       "      <td>2018-12-24T11:24:06.723+00:00</td>\n",
       "      <td>1</td>\n",
       "      <td>1</td>\n",
       "      <td>1</td>\n",
       "      <td>0</td>\n",
       "    </tr>\n",
       "  </tbody>\n",
       "</table>\n",
       "<p>921143 rows × 16 columns</p>\n",
       "</div>"
      ],
      "text/plain": [
       "                               id     timestamp  campaignId  platform  \\\n",
       "0        5c36658fb58fad351175f0b6  1.547069e+09           0         0   \n",
       "1        5c38d5ab1c16172870186b5a  1.547229e+09           0         0   \n",
       "2        5c38815de8f4e50e256e4f9c  1.547207e+09           0         0   \n",
       "3        5c409ace532d5806d2c6a5e6  1.547738e+09           0         0   \n",
       "4        5c3904b92d798c41e7f3088a  1.547241e+09           0         0   \n",
       "...                           ...           ...         ...       ...   \n",
       "999995   5c34c1f60c3e37265e30c16b  1.546961e+09        2327         1   \n",
       "999997   5c379b885d84334749ee8325  1.547148e+09        2327         1   \n",
       "999998   5c4176bf76bb2670bff40944  1.547794e+09        2327         1   \n",
       "999999   5c3e481105f2b6db6607ee09  1.547586e+09        2327         1   \n",
       "1000000  5c3b75a1e48cdb8ae1915a49  1.547401e+09        2327         1   \n",
       "\n",
       "         softwareVersion  sourceGameId  country  startCount  viewCount  \\\n",
       "0                      0       1373094        0          25         24   \n",
       "1                      1       2739989        0          10          9   \n",
       "2                      2       1373094        0          27         26   \n",
       "3                      2       1217749        0          15         14   \n",
       "4                      3       1373094        0          20         18   \n",
       "...                  ...           ...      ...         ...        ...   \n",
       "999995                13       2674503        6          10          8   \n",
       "999997                12       2762289        6         191        170   \n",
       "999998                10       1152400        9          14         12   \n",
       "999999                20       2700609       11          41         10   \n",
       "1000000               13        125832       12           5          2   \n",
       "\n",
       "         clickCount  installCount                      lastStart  \\\n",
       "0                 0             2  2019-01-08T18:49:48.129+00:00   \n",
       "1                 2             0  2019-01-09T21:20:22.855+00:00   \n",
       "2                 0             0  2019-01-09T10:42:08.446+00:00   \n",
       "3                 2             0  2019-01-16T19:58:11.636+00:00   \n",
       "4                 0             0  2019-01-11T21:03:05.103+00:00   \n",
       "...             ...           ...                            ...   \n",
       "999995            1             0  2019-01-08T15:22:35.547+00:00   \n",
       "999997            9             1  2019-01-10T19:21:18.451+00:00   \n",
       "999998            0             0  2019-01-18T06:47:41.177+00:00   \n",
       "999999            3             0  2019-01-15T20:51:37.401+00:00   \n",
       "1000000           0             0  2018-12-24T11:24:06.723+00:00   \n",
       "\n",
       "         startCount1d  startCount7d  connectionType  install  \n",
       "0                   1             8               0        0  \n",
       "1                   1             4               0        0  \n",
       "2                   1             2               0        0  \n",
       "3                   3            14               1        0  \n",
       "4                  13            18               0        0  \n",
       "...               ...           ...             ...      ...  \n",
       "999995             10            10               1        0  \n",
       "999997             14            15               0        0  \n",
       "999998             14            14               1        0  \n",
       "999999             41            41               1        0  \n",
       "1000000             1             1               1        0  \n",
       "\n",
       "[921143 rows x 16 columns]"
      ]
     },
     "execution_count": 23,
     "metadata": {},
     "output_type": "execute_result"
    }
   ],
   "source": [
    "data"
   ]
  },
  {
   "cell_type": "code",
   "execution_count": 24,
   "metadata": {},
   "outputs": [
    {
     "name": "stderr",
     "output_type": "stream",
     "text": [
      "<ipython-input-24-d57d370973c8>:1: SettingWithCopyWarning: \n",
      "A value is trying to be set on a copy of a slice from a DataFrame.\n",
      "Try using .loc[row_indexer,col_indexer] = value instead\n",
      "\n",
      "See the caveats in the documentation: https://pandas.pydata.org/pandas-docs/stable/user_guide/indexing.html#returning-a-view-versus-a-copy\n",
      "  data['lastStart'] = data['lastStart'].apply(time_convert)\n"
     ]
    }
   ],
   "source": [
    "data['lastStart'] = data['lastStart'].apply(time_convert)"
   ]
  },
  {
   "cell_type": "code",
   "execution_count": 25,
   "metadata": {},
   "outputs": [
    {
     "data": {
      "text/plain": [
       "count    9.211430e+05\n",
       "mean     1.547382e+09\n",
       "std      4.714288e+05\n",
       "min      1.544236e+09\n",
       "25%      1.547072e+09\n",
       "50%      1.547382e+09\n",
       "75%      1.547759e+09\n",
       "max      1.548115e+09\n",
       "Name: lastStart, dtype: float64"
      ]
     },
     "execution_count": 25,
     "metadata": {},
     "output_type": "execute_result"
    }
   ],
   "source": [
    "data['lastStart'].describe()"
   ]
  },
  {
   "cell_type": "code",
   "execution_count": 26,
   "metadata": {
    "scrolled": true
   },
   "outputs": [
    {
     "data": {
      "image/png": "[encoded data removed]",
      "text/plain": [
       "<Figure size 1440x1440 with 2 Axes>"
      ]
     },
     "metadata": {},
     "output_type": "display_data"
    }
   ],
   "source": [
    "#plotting heat map of correlation coefficients\n",
    "corrmatrix = data.corr()\n",
    "top_corr_feat = corrmatrix.index\n",
    "plt.figure(figsize=(20,20))\n",
    "g=sns.heatmap(data[top_corr_feat].corr(),annot=True,cmap=\"RdYlGn\")"
   ]
  },
  {
   "cell_type": "markdown",
   "metadata": {},
   "source": [
    "# Data split"
   ]
  },
  {
   "cell_type": "code",
   "execution_count": 27,
   "metadata": {},
   "outputs": [],
   "source": [
    "data = data.drop(['id'], axis =1)"
   ]
  },
  {
   "cell_type": "code",
   "execution_count": 28,
   "metadata": {},
   "outputs": [
    {
     "data": {
      "text/html": [
       "<div>\n",
       "<style scoped>\n",
       "    .dataframe tbody tr th:only-of-type {\n",
       "        vertical-align: middle;\n",
       "    }\n",
       "\n",
       "    .dataframe tbody tr th {\n",
       "        vertical-align: top;\n",
       "    }\n",
       "\n",
       "    .dataframe thead th {\n",
       "        text-align: right;\n",
       "    }\n",
       "</style>\n",
       "<table border=\"1\" class=\"dataframe\">\n",
       "  <thead>\n",
       "    <tr style=\"text-align: right;\">\n",
       "      <th></th>\n",
       "      <th>timestamp</th>\n",
       "      <th>campaignId</th>\n",
       "      <th>platform</th>\n",
       "      <th>softwareVersion</th>\n",
       "      <th>sourceGameId</th>\n",
       "      <th>country</th>\n",
       "      <th>startCount</th>\n",
       "      <th>viewCount</th>\n",
       "      <th>clickCount</th>\n",
       "      <th>installCount</th>\n",
       "      <th>lastStart</th>\n",
       "      <th>startCount1d</th>\n",
       "      <th>startCount7d</th>\n",
       "      <th>connectionType</th>\n",
       "      <th>install</th>\n",
       "    </tr>\n",
       "  </thead>\n",
       "  <tbody>\n",
       "    <tr>\n",
       "      <th>0</th>\n",
       "      <td>1.547069e+09</td>\n",
       "      <td>0</td>\n",
       "      <td>0</td>\n",
       "      <td>0</td>\n",
       "      <td>1373094</td>\n",
       "      <td>0</td>\n",
       "      <td>25</td>\n",
       "      <td>24</td>\n",
       "      <td>0</td>\n",
       "      <td>2</td>\n",
       "      <td>1.546973e+09</td>\n",
       "      <td>1</td>\n",
       "      <td>8</td>\n",
       "      <td>0</td>\n",
       "      <td>0</td>\n",
       "    </tr>\n",
       "    <tr>\n",
       "      <th>1</th>\n",
       "      <td>1.547229e+09</td>\n",
       "      <td>0</td>\n",
       "      <td>0</td>\n",
       "      <td>1</td>\n",
       "      <td>2739989</td>\n",
       "      <td>0</td>\n",
       "      <td>10</td>\n",
       "      <td>9</td>\n",
       "      <td>2</td>\n",
       "      <td>0</td>\n",
       "      <td>1.547069e+09</td>\n",
       "      <td>1</td>\n",
       "      <td>4</td>\n",
       "      <td>0</td>\n",
       "      <td>0</td>\n",
       "    </tr>\n",
       "    <tr>\n",
       "      <th>2</th>\n",
       "      <td>1.547207e+09</td>\n",
       "      <td>0</td>\n",
       "      <td>0</td>\n",
       "      <td>2</td>\n",
       "      <td>1373094</td>\n",
       "      <td>0</td>\n",
       "      <td>27</td>\n",
       "      <td>26</td>\n",
       "      <td>0</td>\n",
       "      <td>0</td>\n",
       "      <td>1.547031e+09</td>\n",
       "      <td>1</td>\n",
       "      <td>2</td>\n",
       "      <td>0</td>\n",
       "      <td>0</td>\n",
       "    </tr>\n",
       "    <tr>\n",
       "      <th>3</th>\n",
       "      <td>1.547738e+09</td>\n",
       "      <td>0</td>\n",
       "      <td>0</td>\n",
       "      <td>2</td>\n",
       "      <td>1217749</td>\n",
       "      <td>0</td>\n",
       "      <td>15</td>\n",
       "      <td>14</td>\n",
       "      <td>2</td>\n",
       "      <td>0</td>\n",
       "      <td>1.547669e+09</td>\n",
       "      <td>3</td>\n",
       "      <td>14</td>\n",
       "      <td>1</td>\n",
       "      <td>0</td>\n",
       "    </tr>\n",
       "    <tr>\n",
       "      <th>4</th>\n",
       "      <td>1.547241e+09</td>\n",
       "      <td>0</td>\n",
       "      <td>0</td>\n",
       "      <td>3</td>\n",
       "      <td>1373094</td>\n",
       "      <td>0</td>\n",
       "      <td>20</td>\n",
       "      <td>18</td>\n",
       "      <td>0</td>\n",
       "      <td>0</td>\n",
       "      <td>1.547241e+09</td>\n",
       "      <td>13</td>\n",
       "      <td>18</td>\n",
       "      <td>0</td>\n",
       "      <td>0</td>\n",
       "    </tr>\n",
       "    <tr>\n",
       "      <th>...</th>\n",
       "      <td>...</td>\n",
       "      <td>...</td>\n",
       "      <td>...</td>\n",
       "      <td>...</td>\n",
       "      <td>...</td>\n",
       "      <td>...</td>\n",
       "      <td>...</td>\n",
       "      <td>...</td>\n",
       "      <td>...</td>\n",
       "      <td>...</td>\n",
       "      <td>...</td>\n",
       "      <td>...</td>\n",
       "      <td>...</td>\n",
       "      <td>...</td>\n",
       "      <td>...</td>\n",
       "    </tr>\n",
       "    <tr>\n",
       "      <th>999995</th>\n",
       "      <td>1.546961e+09</td>\n",
       "      <td>2327</td>\n",
       "      <td>1</td>\n",
       "      <td>13</td>\n",
       "      <td>2674503</td>\n",
       "      <td>6</td>\n",
       "      <td>10</td>\n",
       "      <td>8</td>\n",
       "      <td>1</td>\n",
       "      <td>0</td>\n",
       "      <td>1.546961e+09</td>\n",
       "      <td>10</td>\n",
       "      <td>10</td>\n",
       "      <td>1</td>\n",
       "      <td>0</td>\n",
       "    </tr>\n",
       "    <tr>\n",
       "      <th>999997</th>\n",
       "      <td>1.547148e+09</td>\n",
       "      <td>2327</td>\n",
       "      <td>1</td>\n",
       "      <td>12</td>\n",
       "      <td>2762289</td>\n",
       "      <td>6</td>\n",
       "      <td>191</td>\n",
       "      <td>170</td>\n",
       "      <td>9</td>\n",
       "      <td>1</td>\n",
       "      <td>1.547148e+09</td>\n",
       "      <td>14</td>\n",
       "      <td>15</td>\n",
       "      <td>0</td>\n",
       "      <td>0</td>\n",
       "    </tr>\n",
       "    <tr>\n",
       "      <th>999998</th>\n",
       "      <td>1.547794e+09</td>\n",
       "      <td>2327</td>\n",
       "      <td>1</td>\n",
       "      <td>10</td>\n",
       "      <td>1152400</td>\n",
       "      <td>9</td>\n",
       "      <td>14</td>\n",
       "      <td>12</td>\n",
       "      <td>0</td>\n",
       "      <td>0</td>\n",
       "      <td>1.547794e+09</td>\n",
       "      <td>14</td>\n",
       "      <td>14</td>\n",
       "      <td>1</td>\n",
       "      <td>0</td>\n",
       "    </tr>\n",
       "    <tr>\n",
       "      <th>999999</th>\n",
       "      <td>1.547586e+09</td>\n",
       "      <td>2327</td>\n",
       "      <td>1</td>\n",
       "      <td>20</td>\n",
       "      <td>2700609</td>\n",
       "      <td>11</td>\n",
       "      <td>41</td>\n",
       "      <td>10</td>\n",
       "      <td>3</td>\n",
       "      <td>0</td>\n",
       "      <td>1.547585e+09</td>\n",
       "      <td>41</td>\n",
       "      <td>41</td>\n",
       "      <td>1</td>\n",
       "      <td>0</td>\n",
       "    </tr>\n",
       "    <tr>\n",
       "      <th>1000000</th>\n",
       "      <td>1.547401e+09</td>\n",
       "      <td>2327</td>\n",
       "      <td>1</td>\n",
       "      <td>13</td>\n",
       "      <td>125832</td>\n",
       "      <td>12</td>\n",
       "      <td>5</td>\n",
       "      <td>2</td>\n",
       "      <td>0</td>\n",
       "      <td>0</td>\n",
       "      <td>1.545651e+09</td>\n",
       "      <td>1</td>\n",
       "      <td>1</td>\n",
       "      <td>1</td>\n",
       "      <td>0</td>\n",
       "    </tr>\n",
       "  </tbody>\n",
       "</table>\n",
       "<p>921143 rows × 15 columns</p>\n",
       "</div>"
      ],
      "text/plain": [
       "            timestamp  campaignId  platform  softwareVersion  sourceGameId  \\\n",
       "0        1.547069e+09           0         0                0       1373094   \n",
       "1        1.547229e+09           0         0                1       2739989   \n",
       "2        1.547207e+09           0         0                2       1373094   \n",
       "3        1.547738e+09           0         0                2       1217749   \n",
       "4        1.547241e+09           0         0                3       1373094   \n",
       "...               ...         ...       ...              ...           ...   \n",
       "999995   1.546961e+09        2327         1               13       2674503   \n",
       "999997   1.547148e+09        2327         1               12       2762289   \n",
       "999998   1.547794e+09        2327         1               10       1152400   \n",
       "999999   1.547586e+09        2327         1               20       2700609   \n",
       "1000000  1.547401e+09        2327         1               13        125832   \n",
       "\n",
       "         country  startCount  viewCount  clickCount  installCount  \\\n",
       "0              0          25         24           0             2   \n",
       "1              0          10          9           2             0   \n",
       "2              0          27         26           0             0   \n",
       "3              0          15         14           2             0   \n",
       "4              0          20         18           0             0   \n",
       "...          ...         ...        ...         ...           ...   \n",
       "999995         6          10          8           1             0   \n",
       "999997         6         191        170           9             1   \n",
       "999998         9          14         12           0             0   \n",
       "999999        11          41         10           3             0   \n",
       "1000000       12           5          2           0             0   \n",
       "\n",
       "            lastStart  startCount1d  startCount7d  connectionType  install  \n",
       "0        1.546973e+09             1             8               0        0  \n",
       "1        1.547069e+09             1             4               0        0  \n",
       "2        1.547031e+09             1             2               0        0  \n",
       "3        1.547669e+09             3            14               1        0  \n",
       "4        1.547241e+09            13            18               0        0  \n",
       "...               ...           ...           ...             ...      ...  \n",
       "999995   1.546961e+09            10            10               1        0  \n",
       "999997   1.547148e+09            14            15               0        0  \n",
       "999998   1.547794e+09            14            14               1        0  \n",
       "999999   1.547585e+09            41            41               1        0  \n",
       "1000000  1.545651e+09             1             1               1        0  \n",
       "\n",
       "[921143 rows x 15 columns]"
      ]
     },
     "execution_count": 28,
     "metadata": {},
     "output_type": "execute_result"
    }
   ],
   "source": [
    "data"
   ]
  },
  {
   "cell_type": "code",
   "execution_count": 29,
   "metadata": {},
   "outputs": [],
   "source": [
    "#preparing data\n",
    "X = np.array(data.drop(['install'], 1))\n",
    "y = np.array(data['install'])"
   ]
  },
  {
   "cell_type": "code",
   "execution_count": 30,
   "metadata": {},
   "outputs": [],
   "source": [
    "from sklearn.preprocessing import MinMaxScaler\n",
    "X_norm = MinMaxScaler().fit_transform(X)"
   ]
  },
  {
   "cell_type": "code",
   "execution_count": 31,
   "metadata": {},
   "outputs": [
    {
     "name": "stdout",
     "output_type": "stream",
     "text": [
      "(736914, 14) (184229, 14) (736914,) (184229,)\n"
     ]
    }
   ],
   "source": [
    "X_train, X_val_and_test, Y_train, Y_val_and_test = train_test_split(X_norm, y, test_size=0.2, random_state=1)\n",
    "\n",
    "print(X_train.shape, X_val_and_test.shape, Y_train.shape, Y_val_and_test.shape)"
   ]
  },
  {
   "cell_type": "markdown",
   "metadata": {},
   "source": [
    "# Filter methods"
   ]
  },
  {
   "cell_type": "markdown",
   "metadata": {},
   "source": [
    "Chi-suare"
   ]
  },
  {
   "cell_type": "code",
   "execution_count": 76,
   "metadata": {},
   "outputs": [],
   "source": [
    "from sklearn.feature_selection import SelectKBest\n",
    "from sklearn.feature_selection import chi2\n",
    "\n",
    "chi = SelectKBest(chi2, k='all')\n",
    "chi.fit(X_norm, y)\n",
    "\n",
    "#prepare x and y data for future modelling\n",
    "X_train_chi = chi.transform(X_train)\n",
    "X_test_chi = chi.transform(X_val_and_test)"
   ]
  },
  {
   "cell_type": "code",
   "execution_count": 80,
   "metadata": {},
   "outputs": [
    {
     "name": "stdout",
     "output_type": "stream",
     "text": [
      "Feature 0: 2.635800\n",
      "Feature 1: 67.194926\n",
      "Feature 2: 3.398083\n",
      "Feature 3: 0.057697\n",
      "Feature 4: 0.688321\n",
      "Feature 5: 3.483883\n",
      "Feature 6: 24.267319\n",
      "Feature 7: 27.458421\n",
      "Feature 8: 0.050409\n",
      "Feature 9: 35.304128\n",
      "Feature 10: 0.492544\n",
      "Feature 11: 3.415438\n",
      "Feature 12: 9.738913\n",
      "Feature 13: 1.567649\n"
     ]
    },
    {
     "data": {
      "image/png": "[encoded data removed]",
      "text/plain": [
       "<Figure size 432x288 with 1 Axes>"
      ]
     },
     "metadata": {},
     "output_type": "display_data"
    }
   ],
   "source": [
    "for i in range(len(chi.scores_)):\n",
    "    print('Feature %d: %f' % (i, chi.scores_[i]))\n",
    "# plot of the features importance\n",
    "plt.bar([i for i in range(len(chi.scores_))], chi.scores_)\n",
    "plt.show()"
   ]
  },
  {
   "cell_type": "markdown",
   "metadata": {},
   "source": [
    "Mutual information"
   ]
  },
  {
   "cell_type": "code",
   "execution_count": 79,
   "metadata": {},
   "outputs": [],
   "source": [
    "from sklearn.feature_selection import mutual_info_classif\n",
    "\n",
    "mut_inf = SelectKBest(mutual_info_classif, k='all')\n",
    "mut_inf.fit(X_norm, y)\n",
    "\n",
    "#prepare x and y data for future modelling\n",
    "X_train_mut = mut_inf.transform(X_train)\n",
    "X_test_mut = mut_inf.transform(X_val_and_test)"
   ]
  },
  {
   "cell_type": "code",
   "execution_count": 81,
   "metadata": {},
   "outputs": [
    {
     "name": "stdout",
     "output_type": "stream",
     "text": [
      "Feature 0: 0.000061\n",
      "Feature 1: 0.005160\n",
      "Feature 2: 0.117731\n",
      "Feature 3: 0.000973\n",
      "Feature 4: 0.001865\n",
      "Feature 5: 0.001346\n",
      "Feature 6: 0.000798\n",
      "Feature 7: 0.000496\n",
      "Feature 8: 0.000211\n",
      "Feature 9: 0.000309\n",
      "Feature 10: 0.000162\n",
      "Feature 11: 0.000285\n",
      "Feature 12: 0.000651\n",
      "Feature 13: 0.051020\n"
     ]
    },
    {
     "data": {
      "image/png": "[encoded data removed]",
      "text/plain": [
       "<Figure size 432x288 with 1 Axes>"
      ]
     },
     "metadata": {},
     "output_type": "display_data"
    }
   ],
   "source": [
    "for i in range(len(mut_inf.scores_)):\n",
    "    print('Feature %d: %f' % (i, mut_inf.scores_[i]))\n",
    "# plot of the features importance\n",
    "plt.bar([i for i in range(len(mut_inf.scores_))], mut_inf.scores_)\n",
    "plt.show()"
   ]
  },
  {
   "cell_type": "markdown",
   "metadata": {},
   "source": [
    "# Wrapper Method"
   ]
  },
  {
   "cell_type": "markdown",
   "metadata": {},
   "source": [
    "Recursive Feature Elimination"
   ]
  },
  {
   "cell_type": "code",
   "execution_count": 95,
   "metadata": {},
   "outputs": [
    {
     "data": {
      "text/plain": [
       "ExtraTreesClassifier()"
      ]
     },
     "execution_count": 95,
     "metadata": {},
     "output_type": "execute_result"
    }
   ],
   "source": [
    "from sklearn.ensemble import ExtraTreesClassifier\n",
    "\n",
    "rfe = ExtraTreesClassifier()\n",
    "rfe.fit(X_norm,y)"
   ]
  },
  {
   "cell_type": "code",
   "execution_count": 98,
   "metadata": {},
   "outputs": [
    {
     "name": "stdout",
     "output_type": "stream",
     "text": [
      "[0.11140641 0.08413764 0.00214745 0.08098326 0.10481663 0.07925356\n",
      " 0.08281129 0.08504993 0.06696052 0.04131481 0.11073221 0.06488631\n",
      " 0.07399935 0.01150063]\n"
     ]
    }
   ],
   "source": [
    "print(rfe.feature_importances_)"
   ]
  },
  {
   "cell_type": "code",
   "execution_count": 102,
   "metadata": {},
   "outputs": [
    {
     "data": {
      "image/png": "[encoded data removed]",
      "text/plain": [
       "<Figure size 432x288 with 1 Axes>"
      ]
     },
     "metadata": {},
     "output_type": "display_data"
    }
   ],
   "source": [
    "# Top important feeatures\n",
    "imp = pd.Series(rfe.feature_importances_, index=data.iloc[:,0:14] .columns)\n",
    "imp.nlargest(14).plot(kind='barh')\n",
    "plt.show()"
   ]
  },
  {
   "cell_type": "code",
   "execution_count": 123,
   "metadata": {},
   "outputs": [],
   "source": [
    "#dropping the useless data\n",
    "X2 = np.array(data.drop(['install','platform','connectionType','installCount'], 1))"
   ]
  },
  {
   "cell_type": "code",
   "execution_count": 124,
   "metadata": {},
   "outputs": [],
   "source": [
    "X2_norm = MinMaxScaler().fit_transform(X2)"
   ]
  },
  {
   "cell_type": "code",
   "execution_count": 125,
   "metadata": {},
   "outputs": [
    {
     "name": "stdout",
     "output_type": "stream",
     "text": [
      "(736914, 11) (184229, 11) (736914,) (184229,)\n"
     ]
    }
   ],
   "source": [
    "X2_train, X2_val_and_test, Y2_train, Y2_val_and_test = train_test_split(X2_norm, y, test_size=0.2, random_state=1)\n",
    "\n",
    "print(X2_train.shape, X2_val_and_test.shape, Y2_train.shape, Y2_val_and_test.shape)"
   ]
  },
  {
   "cell_type": "markdown",
   "metadata": {},
   "source": [
    "# Embedded Method"
   ]
  },
  {
   "cell_type": "markdown",
   "metadata": {},
   "source": [
    "Embedded Random Forest"
   ]
  },
  {
   "cell_type": "code",
   "execution_count": 32,
   "metadata": {},
   "outputs": [
    {
     "data": {
      "text/plain": [
       "SelectFromModel(estimator=RandomForestClassifier())"
      ]
     },
     "execution_count": 32,
     "metadata": {},
     "output_type": "execute_result"
    }
   ],
   "source": [
    "from sklearn.feature_selection import SelectFromModel\n",
    "from sklearn.ensemble import RandomForestClassifier\n",
    "\n",
    "erf = SelectFromModel(RandomForestClassifier(n_estimators=100))\n",
    "erf.fit(X_norm, y)"
   ]
  },
  {
   "cell_type": "code",
   "execution_count": 33,
   "metadata": {},
   "outputs": [
    {
     "data": {
      "text/plain": [
       "array([ True,  True, False, False,  True, False, False, False, False,\n",
       "       False,  True, False, False, False])"
      ]
     },
     "execution_count": 33,
     "metadata": {},
     "output_type": "execute_result"
    }
   ],
   "source": [
    "#This array shows waht features are important(True) and not important(False)\n",
    "erf.get_support()"
   ]
  },
  {
   "cell_type": "code",
   "execution_count": 34,
   "metadata": {},
   "outputs": [],
   "source": [
    "#prepare x and y data for future modelling\n",
    "X_train_erf = erf.transform(X_train)\n",
    "X_test_ref = erf.transform(X_val_and_test)"
   ]
  },
  {
   "cell_type": "code",
   "execution_count": 35,
   "metadata": {},
   "outputs": [
    {
     "data": {
      "text/plain": [
       "(736914, 4)"
      ]
     },
     "execution_count": 35,
     "metadata": {},
     "output_type": "execute_result"
    }
   ],
   "source": [
    "X_train_erf.shape"
   ]
  },
  {
   "cell_type": "code",
   "execution_count": 36,
   "metadata": {},
   "outputs": [
    {
     "data": {
      "text/plain": [
       "(921143,)"
      ]
     },
     "execution_count": 36,
     "metadata": {},
     "output_type": "execute_result"
    }
   ],
   "source": [
    "y.shape"
   ]
  },
  {
   "cell_type": "markdown",
   "metadata": {},
   "source": [
    "# Models:"
   ]
  },
  {
   "cell_type": "code",
   "execution_count": 165,
   "metadata": {},
   "outputs": [
    {
     "name": "stdout",
     "output_type": "stream",
     "text": [
      "(147383, 14) (36846, 14) (147383,) (36846,)\n"
     ]
    }
   ],
   "source": [
    "# validation and test sets for chi method\n",
    "\n",
    "X_test, X_val, Y_test, Y_val = train_test_split(X_test_chi, Y_val_and_test, test_size=0.2, random_state=1)\n",
    "\n",
    "print(X_test.shape, X_val.shape, Y_test.shape, Y_val.shape)"
   ]
  },
  {
   "cell_type": "code",
   "execution_count": 104,
   "metadata": {},
   "outputs": [],
   "source": [
    "#creating model\n",
    "model = Sequential([\n",
    "    Dense(32, activation='relu', input_dim=14),\n",
    "    Dense(32, activation='relu'),\n",
    "    Dropout(0.25),\n",
    "    Dense(1, activation='sigmoid'),\n",
    "])\n",
    "model.compile(optimizer='sgd',\n",
    "              loss='binary_crossentropy',\n",
    "              metrics=['accuracy'])"
   ]
  },
  {
   "cell_type": "code",
   "execution_count": 105,
   "metadata": {},
   "outputs": [
    {
     "name": "stdout",
     "output_type": "stream",
     "text": [
      "Model: \"sequential\"\n",
      "_________________________________________________________________\n",
      "Layer (type)                 Output Shape              Param #   \n",
      "=================================================================\n",
      "dense (Dense)                (None, 32)                480       \n",
      "_________________________________________________________________\n",
      "dense_1 (Dense)              (None, 32)                1056      \n",
      "_________________________________________________________________\n",
      "dropout (Dropout)            (None, 32)                0         \n",
      "_________________________________________________________________\n",
      "dense_2 (Dense)              (None, 1)                 33        \n",
      "=================================================================\n",
      "Total params: 1,569\n",
      "Trainable params: 1,569\n",
      "Non-trainable params: 0\n",
      "_________________________________________________________________\n",
      "None\n"
     ]
    }
   ],
   "source": [
    "print(model.summary())"
   ]
  },
  {
   "cell_type": "code",
   "execution_count": 107,
   "metadata": {},
   "outputs": [
    {
     "name": "stdout",
     "output_type": "stream",
     "text": [
      "Epoch 1/50\n",
      "73692/73692 [==============================] - 29s 393us/step - loss: 0.0730 - accuracy: 0.9867 - val_loss: 0.0693 - val_accuracy: 0.9870\n",
      "Epoch 2/50\n",
      "73692/73692 [==============================] - 29s 390us/step - loss: 0.0709 - accuracy: 0.9868 - val_loss: 0.0693 - val_accuracy: 0.9870\n",
      "Epoch 3/50\n",
      "73692/73692 [==============================] - 28s 386us/step - loss: 0.0705 - accuracy: 0.9868 - val_loss: 0.0691 - val_accuracy: 0.9870\n",
      "Epoch 4/50\n",
      "73692/73692 [==============================] - 28s 385us/step - loss: 0.0702 - accuracy: 0.9868 - val_loss: 0.0691 - val_accuracy: 0.9870\n",
      "Epoch 5/50\n",
      "73692/73692 [==============================] - 29s 391us/step - loss: 0.0700 - accuracy: 0.9868 - val_loss: 0.0690 - val_accuracy: 0.9870\n",
      "Epoch 6/50\n",
      "73692/73692 [==============================] - 29s 388us/step - loss: 0.0699 - accuracy: 0.9868 - val_loss: 0.0690 - val_accuracy: 0.9870\n",
      "Epoch 7/50\n",
      "73692/73692 [==============================] - 29s 389us/step - loss: 0.0697 - accuracy: 0.9868 - val_loss: 0.0688 - val_accuracy: 0.9870\n",
      "Epoch 8/50\n",
      "73692/73692 [==============================] - 29s 389us/step - loss: 0.0697 - accuracy: 0.9868 - val_loss: 0.0688 - val_accuracy: 0.9870\n",
      "Epoch 9/50\n",
      "73692/73692 [==============================] - 28s 386us/step - loss: 0.0696 - accuracy: 0.9868 - val_loss: 0.0688 - val_accuracy: 0.9870\n",
      "Epoch 10/50\n",
      "73692/73692 [==============================] - 29s 389us/step - loss: 0.0695 - accuracy: 0.9868 - val_loss: 0.0686 - val_accuracy: 0.9870\n",
      "Epoch 11/50\n",
      "73692/73692 [==============================] - 28s 386us/step - loss: 0.0694 - accuracy: 0.9868 - val_loss: 0.0687 - val_accuracy: 0.9870\n",
      "Epoch 12/50\n",
      "73692/73692 [==============================] - 29s 388us/step - loss: 0.0694 - accuracy: 0.9868 - val_loss: 0.0686 - val_accuracy: 0.9870\n",
      "Epoch 13/50\n",
      "73692/73692 [==============================] - 29s 387us/step - loss: 0.0694 - accuracy: 0.9868 - val_loss: 0.0685 - val_accuracy: 0.9870\n",
      "Epoch 14/50\n",
      "73692/73692 [==============================] - 28s 385us/step - loss: 0.0693 - accuracy: 0.9868 - val_loss: 0.0684 - val_accuracy: 0.9870\n",
      "Epoch 15/50\n",
      "73692/73692 [==============================] - 29s 388us/step - loss: 0.0693 - accuracy: 0.9868 - val_loss: 0.0684 - val_accuracy: 0.9870\n",
      "Epoch 16/50\n",
      "73692/73692 [==============================] - 28s 386us/step - loss: 0.0692 - accuracy: 0.9868 - val_loss: 0.0683 - val_accuracy: 0.9870\n",
      "Epoch 17/50\n",
      "73692/73692 [==============================] - 28s 385us/step - loss: 0.0692 - accuracy: 0.9868 - val_loss: 0.0689 - val_accuracy: 0.9870\n",
      "Epoch 18/50\n",
      "73692/73692 [==============================] - 28s 385us/step - loss: 0.0692 - accuracy: 0.9868 - val_loss: 0.0683 - val_accuracy: 0.9870\n",
      "Epoch 19/50\n",
      "73692/73692 [==============================] - 29s 388us/step - loss: 0.0691 - accuracy: 0.9868 - val_loss: 0.0681 - val_accuracy: 0.9870\n",
      "Epoch 20/50\n",
      "73692/73692 [==============================] - 28s 386us/step - loss: 0.0691 - accuracy: 0.9868 - val_loss: 0.0683 - val_accuracy: 0.9870\n",
      "Epoch 21/50\n",
      "73692/73692 [==============================] - 28s 385us/step - loss: 0.0691 - accuracy: 0.9868 - val_loss: 0.0681 - val_accuracy: 0.9870\n",
      "Epoch 22/50\n",
      "73692/73692 [==============================] - 28s 386us/step - loss: 0.0690 - accuracy: 0.9868 - val_loss: 0.0680 - val_accuracy: 0.9870\n",
      "Epoch 23/50\n",
      "73692/73692 [==============================] - 28s 385us/step - loss: 0.0690 - accuracy: 0.9868 - val_loss: 0.0683 - val_accuracy: 0.9870\n",
      "Epoch 24/50\n",
      "73692/73692 [==============================] - 29s 389us/step - loss: 0.0690 - accuracy: 0.9868 - val_loss: 0.0682 - val_accuracy: 0.9870\n",
      "Epoch 25/50\n",
      "73692/73692 [==============================] - 29s 390us/step - loss: 0.0690 - accuracy: 0.9868 - val_loss: 0.0680 - val_accuracy: 0.9870\n",
      "Epoch 26/50\n",
      "73692/73692 [==============================] - 29s 390us/step - loss: 0.0690 - accuracy: 0.9868 - val_loss: 0.0678 - val_accuracy: 0.9870\n",
      "Epoch 27/50\n",
      "73692/73692 [==============================] - 29s 388us/step - loss: 0.0689 - accuracy: 0.9868 - val_loss: 0.0680 - val_accuracy: 0.9870\n",
      "Epoch 28/50\n",
      "73692/73692 [==============================] - 28s 386us/step - loss: 0.0689 - accuracy: 0.9868 - val_loss: 0.0678 - val_accuracy: 0.9870\n",
      "Epoch 29/50\n",
      "73692/73692 [==============================] - 28s 384us/step - loss: 0.0689 - accuracy: 0.9868 - val_loss: 0.0684 - val_accuracy: 0.9870\n",
      "Epoch 30/50\n",
      "73692/73692 [==============================] - 28s 385us/step - loss: 0.0689 - accuracy: 0.9868 - val_loss: 0.0679 - val_accuracy: 0.9870\n",
      "Epoch 31/50\n",
      "73692/73692 [==============================] - 28s 383us/step - loss: 0.0688 - accuracy: 0.9868 - val_loss: 0.0680 - val_accuracy: 0.9870\n",
      "Epoch 32/50\n",
      "73692/73692 [==============================] - 28s 385us/step - loss: 0.0688 - accuracy: 0.9868 - val_loss: 0.0680 - val_accuracy: 0.9870\n",
      "Epoch 33/50\n",
      "73692/73692 [==============================] - 28s 386us/step - loss: 0.0688 - accuracy: 0.9868 - val_loss: 0.0682 - val_accuracy: 0.9870\n",
      "Epoch 34/50\n",
      "73692/73692 [==============================] - 29s 388us/step - loss: 0.0688 - accuracy: 0.9868 - val_loss: 0.0681 - val_accuracy: 0.9870\n",
      "Epoch 35/50\n",
      "73692/73692 [==============================] - 29s 388us/step - loss: 0.0688 - accuracy: 0.9868 - val_loss: 0.0679 - val_accuracy: 0.9870\n",
      "Epoch 36/50\n",
      "73692/73692 [==============================] - 28s 386us/step - loss: 0.0688 - accuracy: 0.9868 - val_loss: 0.0690 - val_accuracy: 0.9870\n",
      "Epoch 37/50\n",
      "73692/73692 [==============================] - 28s 386us/step - loss: 0.0688 - accuracy: 0.9868 - val_loss: 0.0686 - val_accuracy: 0.9870\n",
      "Epoch 38/50\n",
      "73692/73692 [==============================] - 28s 387us/step - loss: 0.0688 - accuracy: 0.9868 - val_loss: 0.0680 - val_accuracy: 0.9870\n",
      "Epoch 39/50\n",
      "73692/73692 [==============================] - 28s 387us/step - loss: 0.0687 - accuracy: 0.9868 - val_loss: 0.0677 - val_accuracy: 0.9870\n",
      "Epoch 40/50\n",
      "73692/73692 [==============================] - 28s 384us/step - loss: 0.0687 - accuracy: 0.9868 - val_loss: 0.0678 - val_accuracy: 0.9870\n",
      "Epoch 41/50\n",
      "73692/73692 [==============================] - 28s 384us/step - loss: 0.0687 - accuracy: 0.9868 - val_loss: 0.0677 - val_accuracy: 0.9870\n",
      "Epoch 42/50\n",
      "73692/73692 [==============================] - 28s 386us/step - loss: 0.0687 - accuracy: 0.9868 - val_loss: 0.0678 - val_accuracy: 0.9870\n",
      "Epoch 43/50\n",
      "73692/73692 [==============================] - 29s 393us/step - loss: 0.0687 - accuracy: 0.9868 - val_loss: 0.0679 - val_accuracy: 0.9870\n",
      "Epoch 44/50\n",
      "73692/73692 [==============================] - 28s 383us/step - loss: 0.0687 - accuracy: 0.9868 - val_loss: 0.0678 - val_accuracy: 0.9870\n",
      "Epoch 45/50\n",
      "73692/73692 [==============================] - 28s 383us/step - loss: 0.0687 - accuracy: 0.9868 - val_loss: 0.0688 - val_accuracy: 0.9870\n",
      "Epoch 46/50\n",
      "73692/73692 [==============================] - 28s 385us/step - loss: 0.0687 - accuracy: 0.9868 - val_loss: 0.0678 - val_accuracy: 0.9870\n",
      "Epoch 47/50\n",
      "73692/73692 [==============================] - 28s 385us/step - loss: 0.0687 - accuracy: 0.9868 - val_loss: 0.0680 - val_accuracy: 0.9870\n",
      "Epoch 48/50\n",
      "73692/73692 [==============================] - 28s 385us/step - loss: 0.0687 - accuracy: 0.9868 - val_loss: 0.0677 - val_accuracy: 0.9870\n",
      "Epoch 49/50\n",
      "73692/73692 [==============================] - 29s 388us/step - loss: 0.0687 - accuracy: 0.9868 - val_loss: 0.0678 - val_accuracy: 0.9870\n",
      "Epoch 50/50\n",
      "73692/73692 [==============================] - 29s 388us/step - loss: 0.0687 - accuracy: 0.9868 - val_loss: 0.0677 - val_accuracy: 0.9870\n"
     ]
    }
   ],
   "source": [
    "#training model for chi method\n",
    "h = model.fit(X_train_chi, Y_train,\n",
    "          batch_size=10, epochs=50,\n",
    "          validation_data=(X_val, Y_val))"
   ]
  },
  {
   "cell_type": "code",
   "execution_count": 109,
   "metadata": {},
   "outputs": [
    {
     "data": {
      "image/png": "[encoded data removed]",
      "text/plain": [
       "<Figure size 432x288 with 1 Axes>"
      ]
     },
     "metadata": {},
     "output_type": "display_data"
    }
   ],
   "source": [
    "plt.plot(h.history['loss'])\n",
    "plt.plot(h.history['val_loss'])\n",
    "plt.title('Overall Loss')\n",
    "plt.ylabel('loss')\n",
    "plt.xlabel('epoch')\n",
    "plt.legend(['train', 'test'])\n",
    "plt.show()"
   ]
  },
  {
   "cell_type": "code",
   "execution_count": 110,
   "metadata": {},
   "outputs": [
    {
     "name": "stdout",
     "output_type": "stream",
     "text": [
      "4606/4606 [==============================] - 1s 290us/step - loss: 0.0685 - accuracy: 0.9868\n"
     ]
    },
    {
     "data": {
      "text/plain": [
       "0.9867624044418335"
      ]
     },
     "execution_count": 110,
     "metadata": {},
     "output_type": "execute_result"
    }
   ],
   "source": [
    "#model evaluation\n",
    "model.evaluate(X_test, Y_test)[1]"
   ]
  },
  {
   "cell_type": "markdown",
   "metadata": {},
   "source": [
    "modelling for mutual information"
   ]
  },
  {
   "cell_type": "code",
   "execution_count": 134,
   "metadata": {},
   "outputs": [
    {
     "name": "stdout",
     "output_type": "stream",
     "text": [
      "(147383, 14) (36846, 14) (147383,) (36846,)\n"
     ]
    }
   ],
   "source": [
    "# validation and test sets for chi method\n",
    "\n",
    "X_test, X_val, Y_test, Y_val = train_test_split(X_test_mut, Y_val_and_test, test_size=0.2, random_state=1)\n",
    "\n",
    "print(X_test.shape, X_val.shape, Y_test.shape, Y_val.shape)"
   ]
  },
  {
   "cell_type": "code",
   "execution_count": 112,
   "metadata": {},
   "outputs": [
    {
     "name": "stdout",
     "output_type": "stream",
     "text": [
      "Epoch 1/50\n",
      "73667/73692 [============================>.] - ETA: 0s - loss: 0.0686 - accuracy: 0.9868WARNING:tensorflow:Callbacks method `on_test_batch_end` is slow compared to the batch time (batch time: 0.0000s vs `on_test_batch_end` time: 0.0010s). Check your callbacks.\n",
      "73692/73692 [==============================] - 29s 388us/step - loss: 0.0686 - accuracy: 0.9868 - val_loss: 0.0677 - val_accuracy: 0.9870\n",
      "Epoch 2/50\n",
      "73692/73692 [==============================] - 29s 391us/step - loss: 0.0687 - accuracy: 0.9868 - val_loss: 0.0677 - val_accuracy: 0.9870\n",
      "Epoch 3/50\n",
      "73692/73692 [==============================] - 29s 392us/step - loss: 0.0686 - accuracy: 0.9868 - val_loss: 0.0677 - val_accuracy: 0.9870\n",
      "Epoch 4/50\n",
      "73692/73692 [==============================] - 28s 387us/step - loss: 0.0686 - accuracy: 0.9868 - val_loss: 0.0686 - val_accuracy: 0.9870\n",
      "Epoch 5/50\n",
      "73692/73692 [==============================] - 29s 399us/step - loss: 0.0686 - accuracy: 0.9868 - val_loss: 0.0676 - val_accuracy: 0.9870\n",
      "Epoch 6/50\n",
      "73692/73692 [==============================] - 29s 392us/step - loss: 0.0686 - accuracy: 0.9868 - val_loss: 0.0677 - val_accuracy: 0.9870\n",
      "Epoch 7/50\n",
      "73692/73692 [==============================] - 29s 388us/step - loss: 0.0686 - accuracy: 0.9868 - val_loss: 0.0677 - val_accuracy: 0.9870\n",
      "Epoch 8/50\n",
      "73692/73692 [==============================] - 29s 393us/step - loss: 0.0686 - accuracy: 0.9868 - val_loss: 0.0676 - val_accuracy: 0.9870\n",
      "Epoch 9/50\n",
      "73692/73692 [==============================] - 29s 391us/step - loss: 0.0686 - accuracy: 0.9868 - val_loss: 0.0677 - val_accuracy: 0.9870\n",
      "Epoch 10/50\n",
      "73692/73692 [==============================] - 29s 396us/step - loss: 0.0686 - accuracy: 0.9868 - val_loss: 0.0678 - val_accuracy: 0.9870\n",
      "Epoch 11/50\n",
      "73692/73692 [==============================] - 30s 410us/step - loss: 0.0686 - accuracy: 0.9868 - val_loss: 0.0679 - val_accuracy: 0.9870\n",
      "Epoch 12/50\n",
      "73692/73692 [==============================] - 31s 416us/step - loss: 0.0685 - accuracy: 0.9868 - val_loss: 0.0676 - val_accuracy: 0.9870\n",
      "Epoch 13/50\n",
      "73692/73692 [==============================] - 30s 412us/step - loss: 0.0686 - accuracy: 0.9868 - val_loss: 0.0677 - val_accuracy: 0.9870\n",
      "Epoch 14/50\n",
      "73692/73692 [==============================] - 30s 414us/step - loss: 0.0686 - accuracy: 0.9868 - val_loss: 0.0678 - val_accuracy: 0.9870\n",
      "Epoch 15/50\n",
      "73692/73692 [==============================] - 30s 402us/step - loss: 0.0686 - accuracy: 0.9868 - val_loss: 0.0675 - val_accuracy: 0.9870\n",
      "Epoch 16/50\n",
      "73692/73692 [==============================] - 29s 398us/step - loss: 0.0686 - accuracy: 0.9868 - val_loss: 0.0677 - val_accuracy: 0.9870\n",
      "Epoch 17/50\n",
      "73692/73692 [==============================] - 30s 407us/step - loss: 0.0685 - accuracy: 0.9868 - val_loss: 0.0681 - val_accuracy: 0.9870\n",
      "Epoch 18/50\n",
      "73692/73692 [==============================] - 30s 408us/step - loss: 0.0685 - accuracy: 0.9868 - val_loss: 0.0679 - val_accuracy: 0.9870\n",
      "Epoch 19/50\n",
      "73692/73692 [==============================] - 30s 405us/step - loss: 0.0685 - accuracy: 0.9868 - val_loss: 0.0678 - val_accuracy: 0.9870\n",
      "Epoch 20/50\n",
      "73692/73692 [==============================] - 31s 422us/step - loss: 0.0685 - accuracy: 0.9868 - val_loss: 0.0677 - val_accuracy: 0.9870\n",
      "Epoch 21/50\n",
      "73692/73692 [==============================] - 30s 401us/step - loss: 0.0685 - accuracy: 0.9868 - val_loss: 0.0676 - val_accuracy: 0.9870\n",
      "Epoch 22/50\n",
      "73692/73692 [==============================] - 29s 399us/step - loss: 0.0685 - accuracy: 0.9868 - val_loss: 0.0694 - val_accuracy: 0.9870\n",
      "Epoch 23/50\n",
      "73692/73692 [==============================] - 30s 412us/step - loss: 0.0685 - accuracy: 0.9868 - val_loss: 0.0676 - val_accuracy: 0.9870\n",
      "Epoch 24/50\n",
      "73692/73692 [==============================] - 32s 433us/step - loss: 0.0685 - accuracy: 0.9868 - val_loss: 0.0677 - val_accuracy: 0.9870\n",
      "Epoch 25/50\n",
      "73692/73692 [==============================] - 31s 414us/step - loss: 0.0685 - accuracy: 0.9868 - val_loss: 0.0677 - val_accuracy: 0.9870\n",
      "Epoch 26/50\n",
      "73692/73692 [==============================] - 30s 410us/step - loss: 0.0685 - accuracy: 0.9868 - val_loss: 0.0683 - val_accuracy: 0.9870\n",
      "Epoch 27/50\n",
      "73692/73692 [==============================] - 30s 410us/step - loss: 0.0685 - accuracy: 0.9868 - val_loss: 0.0677 - val_accuracy: 0.9870\n",
      "Epoch 28/50\n",
      "73692/73692 [==============================] - 30s 413us/step - loss: 0.0685 - accuracy: 0.9868 - val_loss: 0.0676 - val_accuracy: 0.9870\n",
      "Epoch 29/50\n",
      "73692/73692 [==============================] - 30s 402us/step - loss: 0.0685 - accuracy: 0.9868 - val_loss: 0.0692 - val_accuracy: 0.9870\n",
      "Epoch 30/50\n",
      "73692/73692 [==============================] - 30s 406us/step - loss: 0.0685 - accuracy: 0.9868 - val_loss: 0.0677 - val_accuracy: 0.9870\n",
      "Epoch 31/50\n",
      "73692/73692 [==============================] - 30s 407us/step - loss: 0.0685 - accuracy: 0.9868 - val_loss: 0.0675 - val_accuracy: 0.9870\n",
      "Epoch 32/50\n",
      "73692/73692 [==============================] - 30s 406us/step - loss: 0.0685 - accuracy: 0.9868 - val_loss: 0.0677 - val_accuracy: 0.9870\n",
      "Epoch 33/50\n",
      "73692/73692 [==============================] - 30s 401us/step - loss: 0.0685 - accuracy: 0.9868 - val_loss: 0.0678 - val_accuracy: 0.9870\n",
      "Epoch 34/50\n",
      "73692/73692 [==============================] - 30s 406us/step - loss: 0.0684 - accuracy: 0.9868 - val_loss: 0.0679 - val_accuracy: 0.9870\n",
      "Epoch 35/50\n",
      "73692/73692 [==============================] - 31s 416us/step - loss: 0.0685 - accuracy: 0.9868 - val_loss: 0.0677 - val_accuracy: 0.9870\n",
      "Epoch 36/50\n",
      "73692/73692 [==============================] - 31s 427us/step - loss: 0.0685 - accuracy: 0.9868 - val_loss: 0.0674 - val_accuracy: 0.9870\n",
      "Epoch 37/50\n",
      "73692/73692 [==============================] - 31s 424us/step - loss: 0.0684 - accuracy: 0.9868 - val_loss: 0.0676 - val_accuracy: 0.9870\n",
      "Epoch 38/50\n",
      "73692/73692 [==============================] - 30s 410us/step - loss: 0.0684 - accuracy: 0.9868 - val_loss: 0.0676 - val_accuracy: 0.9870\n",
      "Epoch 39/50\n",
      "73692/73692 [==============================] - 31s 416us/step - loss: 0.0684 - accuracy: 0.9868 - val_loss: 0.0678 - val_accuracy: 0.9870\n",
      "Epoch 40/50\n",
      "73692/73692 [==============================] - 30s 413us/step - loss: 0.0684 - accuracy: 0.9868 - val_loss: 0.0675 - val_accuracy: 0.9870\n",
      "Epoch 41/50\n",
      "73692/73692 [==============================] - 31s 422us/step - loss: 0.0684 - accuracy: 0.9868 - val_loss: 0.0675 - val_accuracy: 0.9870\n",
      "Epoch 42/50\n",
      "73692/73692 [==============================] - 30s 405us/step - loss: 0.0684 - accuracy: 0.9868 - val_loss: 0.0676 - val_accuracy: 0.9870\n",
      "Epoch 43/50\n",
      "73692/73692 [==============================] - 30s 411us/step - loss: 0.0684 - accuracy: 0.9868 - val_loss: 0.0676 - val_accuracy: 0.9870\n",
      "Epoch 44/50\n",
      "73692/73692 [==============================] - 30s 403us/step - loss: 0.0684 - accuracy: 0.9868 - val_loss: 0.0674 - val_accuracy: 0.9870\n",
      "Epoch 45/50\n",
      "73692/73692 [==============================] - 32s 434us/step - loss: 0.0684 - accuracy: 0.9868 - val_loss: 0.0676 - val_accuracy: 0.9870\n",
      "Epoch 46/50\n",
      "73692/73692 [==============================] - 31s 420us/step - loss: 0.0684 - accuracy: 0.9868 - val_loss: 0.0675 - val_accuracy: 0.9870\n",
      "Epoch 47/50\n",
      "73692/73692 [==============================] - 32s 431us/step - loss: 0.0684 - accuracy: 0.9868 - val_loss: 0.0676 - val_accuracy: 0.9870\n",
      "Epoch 48/50\n",
      "73692/73692 [==============================] - 30s 412us/step - loss: 0.0684 - accuracy: 0.9868 - val_loss: 0.0675 - val_accuracy: 0.9870\n",
      "Epoch 49/50\n",
      "73692/73692 [==============================] - 31s 415us/step - loss: 0.0684 - accuracy: 0.9868 - val_loss: 0.0677 - val_accuracy: 0.9870\n",
      "Epoch 50/50\n",
      "73692/73692 [==============================] - 30s 409us/step - loss: 0.0684 - accuracy: 0.9868 - val_loss: 0.0677 - val_accuracy: 0.9870\n"
     ]
    }
   ],
   "source": [
    "#training model for mutual information method\n",
    "h = model.fit(X_train_mut, Y_train,\n",
    "          batch_size=10, epochs=50,\n",
    "          validation_data=(X_val, Y_val))"
   ]
  },
  {
   "cell_type": "code",
   "execution_count": 117,
   "metadata": {},
   "outputs": [
    {
     "data": {
      "image/png": "[encoded data removed]",
      "text/plain": [
       "<Figure size 432x288 with 1 Axes>"
      ]
     },
     "metadata": {},
     "output_type": "display_data"
    }
   ],
   "source": [
    "plt.plot(h.history['loss'])\n",
    "plt.plot(h.history['val_loss'])\n",
    "plt.title('Overall Loss')\n",
    "plt.ylabel('loss')\n",
    "plt.xlabel('epoch')\n",
    "plt.legend(['train', 'test'])\n",
    "plt.show()"
   ]
  },
  {
   "cell_type": "markdown",
   "metadata": {},
   "source": [
    "Recursive Feature Elimination"
   ]
  },
  {
   "cell_type": "code",
   "execution_count": 136,
   "metadata": {},
   "outputs": [
    {
     "name": "stdout",
     "output_type": "stream",
     "text": [
      "(147383, 11) (36846, 11) (147383,) (36846,)\n"
     ]
    }
   ],
   "source": [
    "# validation and test sets for chi method\n",
    "\n",
    "X_test, X_val, Y_test, Y_val = train_test_split(X2_val_and_test, Y2_val_and_test, test_size=0.2, random_state=1)\n",
    "\n",
    "print(X_test.shape, X_val.shape, Y_test.shape, Y_val.shape)"
   ]
  },
  {
   "cell_type": "code",
   "execution_count": 148,
   "metadata": {},
   "outputs": [
    {
     "data": {
      "text/plain": [
       "(736914, 11)"
      ]
     },
     "execution_count": 148,
     "metadata": {},
     "output_type": "execute_result"
    }
   ],
   "source": [
    "X2_train.shape"
   ]
  },
  {
   "cell_type": "code",
   "execution_count": 149,
   "metadata": {},
   "outputs": [
    {
     "data": {
      "text/plain": [
       "(736914,)"
      ]
     },
     "execution_count": 149,
     "metadata": {},
     "output_type": "execute_result"
    }
   ],
   "source": [
    "Y_train.shape"
   ]
  },
  {
   "cell_type": "code",
   "execution_count": 141,
   "metadata": {},
   "outputs": [],
   "source": [
    "#creating second model\n",
    "model2 = Sequential([\n",
    "    Dense(32, activation='relu', input_dim=11),\n",
    "    Dense(32, activation='relu'),\n",
    "    Dropout(0.25),\n",
    "    Dense(1, activation='sigmoid'),\n",
    "])\n",
    "model2.compile(optimizer='sgd',\n",
    "              loss='binary_crossentropy',\n",
    "              metrics=['accuracy'])"
   ]
  },
  {
   "cell_type": "code",
   "execution_count": 142,
   "metadata": {},
   "outputs": [
    {
     "name": "stdout",
     "output_type": "stream",
     "text": [
      "Epoch 1/50\n",
      "73692/73692 [==============================] - 28s 386us/step - loss: 0.0733 - accuracy: 0.9868 - val_loss: 0.0693 - val_accuracy: 0.9870\n",
      "Epoch 2/50\n",
      "73692/73692 [==============================] - 29s 389us/step - loss: 0.0708 - accuracy: 0.9868 - val_loss: 0.0692 - val_accuracy: 0.9870\n",
      "Epoch 3/50\n",
      "73692/73692 [==============================] - 28s 386us/step - loss: 0.0704 - accuracy: 0.9868 - val_loss: 0.0692 - val_accuracy: 0.9870\n",
      "Epoch 4/50\n",
      "73692/73692 [==============================] - 28s 386us/step - loss: 0.0701 - accuracy: 0.9868 - val_loss: 0.0692 - val_accuracy: 0.9870\n",
      "Epoch 5/50\n",
      "73692/73692 [==============================] - 28s 386us/step - loss: 0.0700 - accuracy: 0.9868 - val_loss: 0.0691 - val_accuracy: 0.9870\n",
      "Epoch 6/50\n",
      "73692/73692 [==============================] - 29s 391us/step - loss: 0.0700 - accuracy: 0.9868 - val_loss: 0.0691 - val_accuracy: 0.9870\n",
      "Epoch 7/50\n",
      "73692/73692 [==============================] - 28s 384us/step - loss: 0.0698 - accuracy: 0.9868 - val_loss: 0.0691 - val_accuracy: 0.9870\n",
      "Epoch 8/50\n",
      "73692/73692 [==============================] - 28s 385us/step - loss: 0.0698 - accuracy: 0.9868 - val_loss: 0.0690 - val_accuracy: 0.9870\n",
      "Epoch 9/50\n",
      "73692/73692 [==============================] - 28s 385us/step - loss: 0.0697 - accuracy: 0.9868 - val_loss: 0.0690 - val_accuracy: 0.9870\n",
      "Epoch 10/50\n",
      "73692/73692 [==============================] - 29s 387us/step - loss: 0.0697 - accuracy: 0.9868 - val_loss: 0.0689 - val_accuracy: 0.9870\n",
      "Epoch 11/50\n",
      "73692/73692 [==============================] - 29s 388us/step - loss: 0.0697 - accuracy: 0.9868 - val_loss: 0.0689 - val_accuracy: 0.9870\n",
      "Epoch 12/50\n",
      "73692/73692 [==============================] - 28s 386us/step - loss: 0.0696 - accuracy: 0.9868 - val_loss: 0.0690 - val_accuracy: 0.9870\n",
      "Epoch 13/50\n",
      "73692/73692 [==============================] - 29s 387us/step - loss: 0.0696 - accuracy: 0.9868 - val_loss: 0.0688 - val_accuracy: 0.9870\n",
      "Epoch 14/50\n",
      "73692/73692 [==============================] - 28s 386us/step - loss: 0.0696 - accuracy: 0.9868 - val_loss: 0.0689 - val_accuracy: 0.9870\n",
      "Epoch 15/50\n",
      "73692/73692 [==============================] - 29s 396us/step - loss: 0.0696 - accuracy: 0.9868 - val_loss: 0.0687 - val_accuracy: 0.9870\n",
      "Epoch 16/50\n",
      "73692/73692 [==============================] - 28s 385us/step - loss: 0.0696 - accuracy: 0.9868 - val_loss: 0.0687 - val_accuracy: 0.9870\n",
      "Epoch 17/50\n",
      "73692/73692 [==============================] - 29s 388us/step - loss: 0.0695 - accuracy: 0.9868 - val_loss: 0.0687 - val_accuracy: 0.9870\n",
      "Epoch 18/50\n",
      "73692/73692 [==============================] - 28s 385us/step - loss: 0.0695 - accuracy: 0.9868 - val_loss: 0.0688 - val_accuracy: 0.9870\n",
      "Epoch 19/50\n",
      "73692/73692 [==============================] - 28s 382us/step - loss: 0.0695 - accuracy: 0.9868 - val_loss: 0.0687 - val_accuracy: 0.9870\n",
      "Epoch 20/50\n",
      "73692/73692 [==============================] - 28s 381us/step - loss: 0.0695 - accuracy: 0.9868 - val_loss: 0.0686 - val_accuracy: 0.9870\n",
      "Epoch 21/50\n",
      "73692/73692 [==============================] - 29s 394us/step - loss: 0.0694 - accuracy: 0.9868 - val_loss: 0.0686 - val_accuracy: 0.9870\n",
      "Epoch 22/50\n",
      "73692/73692 [==============================] - 28s 384us/step - loss: 0.0695 - accuracy: 0.9868 - val_loss: 0.0689 - val_accuracy: 0.9870\n",
      "Epoch 23/50\n",
      "73692/73692 [==============================] - 29s 387us/step - loss: 0.0694 - accuracy: 0.9868 - val_loss: 0.0687 - val_accuracy: 0.9870\n",
      "Epoch 24/50\n",
      "73692/73692 [==============================] - 28s 384us/step - loss: 0.0694 - accuracy: 0.9868 - val_loss: 0.0686 - val_accuracy: 0.9870\n",
      "Epoch 25/50\n",
      "73692/73692 [==============================] - 28s 385us/step - loss: 0.0694 - accuracy: 0.9868 - val_loss: 0.0686 - val_accuracy: 0.9870\n",
      "Epoch 26/50\n",
      "73692/73692 [==============================] - 28s 387us/step - loss: 0.0694 - accuracy: 0.9868 - val_loss: 0.0686 - val_accuracy: 0.9870\n",
      "Epoch 27/50\n",
      "73692/73692 [==============================] - 28s 387us/step - loss: 0.0694 - accuracy: 0.9868 - val_loss: 0.0686 - val_accuracy: 0.9870\n",
      "Epoch 28/50\n",
      "73692/73692 [==============================] - 29s 387us/step - loss: 0.0693 - accuracy: 0.9868 - val_loss: 0.0687 - val_accuracy: 0.9870\n",
      "Epoch 29/50\n",
      "73692/73692 [==============================] - 29s 391us/step - loss: 0.0693 - accuracy: 0.9868 - val_loss: 0.0685 - val_accuracy: 0.9870\n",
      "Epoch 30/50\n",
      "73692/73692 [==============================] - 28s 385us/step - loss: 0.0693 - accuracy: 0.9868 - val_loss: 0.0686 - val_accuracy: 0.9870\n",
      "Epoch 31/50\n",
      "73692/73692 [==============================] - 28s 383us/step - loss: 0.0693 - accuracy: 0.9868 - val_loss: 0.0685 - val_accuracy: 0.9870\n",
      "Epoch 32/50\n",
      "73692/73692 [==============================] - 28s 385us/step - loss: 0.0693 - accuracy: 0.9868 - val_loss: 0.0685 - val_accuracy: 0.9870\n",
      "Epoch 33/50\n",
      "73692/73692 [==============================] - 28s 386us/step - loss: 0.0693 - accuracy: 0.9868 - val_loss: 0.0685 - val_accuracy: 0.9870\n",
      "Epoch 34/50\n",
      "73692/73692 [==============================] - 28s 385us/step - loss: 0.0693 - accuracy: 0.9868 - val_loss: 0.0686 - val_accuracy: 0.9870\n",
      "Epoch 35/50\n",
      "73692/73692 [==============================] - 28s 384us/step - loss: 0.0693 - accuracy: 0.9868 - val_loss: 0.0685 - val_accuracy: 0.9870\n",
      "Epoch 36/50\n",
      "73692/73692 [==============================] - 29s 387us/step - loss: 0.0693 - accuracy: 0.9868 - val_loss: 0.0685 - val_accuracy: 0.9870\n",
      "Epoch 37/50\n",
      "73692/73692 [==============================] - 29s 390us/step - loss: 0.0693 - accuracy: 0.9868 - val_loss: 0.0686 - val_accuracy: 0.9870\n",
      "Epoch 38/50\n",
      "73692/73692 [==============================] - 29s 390us/step - loss: 0.0693 - accuracy: 0.9868 - val_loss: 0.0684 - val_accuracy: 0.9870\n",
      "Epoch 39/50\n",
      "73692/73692 [==============================] - 29s 388us/step - loss: 0.0693 - accuracy: 0.9868 - val_loss: 0.0685 - val_accuracy: 0.9870\n",
      "Epoch 40/50\n",
      "73692/73692 [==============================] - 28s 387us/step - loss: 0.0693 - accuracy: 0.9868 - val_loss: 0.0685 - val_accuracy: 0.9870\n",
      "Epoch 41/50\n",
      "73692/73692 [==============================] - 29s 389us/step - loss: 0.0692 - accuracy: 0.9868 - val_loss: 0.0684 - val_accuracy: 0.9870\n",
      "Epoch 42/50\n",
      "73692/73692 [==============================] - 29s 389us/step - loss: 0.0692 - accuracy: 0.9868 - val_loss: 0.0686 - val_accuracy: 0.9870\n",
      "Epoch 43/50\n",
      "73692/73692 [==============================] - 29s 389us/step - loss: 0.0693 - accuracy: 0.9868 - val_loss: 0.0684 - val_accuracy: 0.9870\n",
      "Epoch 44/50\n",
      "73692/73692 [==============================] - 29s 389us/step - loss: 0.0693 - accuracy: 0.9868 - val_loss: 0.0684 - val_accuracy: 0.9870\n",
      "Epoch 45/50\n",
      "73692/73692 [==============================] - 29s 387us/step - loss: 0.0692 - accuracy: 0.9868 - val_loss: 0.0684 - val_accuracy: 0.9870\n",
      "Epoch 46/50\n",
      "73692/73692 [==============================] - 29s 388us/step - loss: 0.0692 - accuracy: 0.9868 - val_loss: 0.0685 - val_accuracy: 0.9870\n",
      "Epoch 47/50\n",
      "73692/73692 [==============================] - 28s 383us/step - loss: 0.0692 - accuracy: 0.9868 - val_loss: 0.0684 - val_accuracy: 0.9870\n",
      "Epoch 48/50\n",
      "73692/73692 [==============================] - 28s 386us/step - loss: 0.0692 - accuracy: 0.9868 - val_loss: 0.0684 - val_accuracy: 0.9870\n",
      "Epoch 49/50\n",
      "73692/73692 [==============================] - 29s 387us/step - loss: 0.0692 - accuracy: 0.9868 - val_loss: 0.0683 - val_accuracy: 0.9870\n",
      "Epoch 50/50\n",
      "73692/73692 [==============================] - 29s 388us/step - loss: 0.0692 - accuracy: 0.9868 - val_loss: 0.0683 - val_accuracy: 0.9870\n"
     ]
    }
   ],
   "source": [
    "h2 = model2.fit(X2_train, Y_train,\n",
    "          batch_size=10, epochs=50,\n",
    "          validation_data=(X_val, Y_val))"
   ]
  },
  {
   "cell_type": "code",
   "execution_count": 144,
   "metadata": {},
   "outputs": [
    {
     "data": {
      "image/png": "[encoded data removed]",
      "text/plain": [
       "<Figure size 432x288 with 1 Axes>"
      ]
     },
     "metadata": {},
     "output_type": "display_data"
    }
   ],
   "source": [
    "plt.plot(h2.history['loss'])\n",
    "plt.plot(h2.history['val_loss'])\n",
    "plt.title('Overall Loss')\n",
    "plt.ylabel('loss')\n",
    "plt.xlabel('epoch')\n",
    "plt.legend(['train', 'test'])\n",
    "plt.show()"
   ]
  },
  {
   "cell_type": "markdown",
   "metadata": {},
   "source": [
    "Embedded Random Forest"
   ]
  },
  {
   "cell_type": "code",
   "execution_count": 38,
   "metadata": {},
   "outputs": [
    {
     "name": "stdout",
     "output_type": "stream",
     "text": [
      "(147383, 4) (36846, 4) (147383,) (36846,)\n"
     ]
    }
   ],
   "source": [
    "# validation and test sets for Embedded Random Forest method\n",
    "\n",
    "X_test, X_val, Y_test, Y_val = train_test_split(X_test_ref, Y_val_and_test, test_size=0.2, random_state=1)\n",
    "\n",
    "print(X_test.shape, X_val.shape, Y_test.shape, Y_val.shape)"
   ]
  },
  {
   "cell_type": "code",
   "execution_count": 39,
   "metadata": {},
   "outputs": [],
   "source": [
    "#creating the third model\n",
    "model3 = Sequential([\n",
    "    Dense(32, activation='relu', input_dim=4),\n",
    "    Dense(32, activation='relu'),\n",
    "    Dropout(0.25),\n",
    "    Dense(1, activation='sigmoid'),\n",
    "])\n",
    "model3.compile(optimizer='sgd',\n",
    "              loss='binary_crossentropy',\n",
    "              metrics=['accuracy'])"
   ]
  },
  {
   "cell_type": "code",
   "execution_count": 40,
   "metadata": {},
   "outputs": [
    {
     "name": "stdout",
     "output_type": "stream",
     "text": [
      "Epoch 1/50\n",
      "73692/73692 [==============================] - 28s 383us/step - loss: 0.0739 - accuracy: 0.9866 - val_loss: 0.0694 - val_accuracy: 0.9870\n",
      "Epoch 2/50\n",
      "73692/73692 [==============================] - 28s 378us/step - loss: 0.0707 - accuracy: 0.9868 - val_loss: 0.0693 - val_accuracy: 0.9870\n",
      "Epoch 3/50\n",
      "73692/73692 [==============================] - 28s 377us/step - loss: 0.0703 - accuracy: 0.9868 - val_loss: 0.0693 - val_accuracy: 0.9870\n",
      "Epoch 4/50\n",
      "73692/73692 [==============================] - 28s 378us/step - loss: 0.0701 - accuracy: 0.9868 - val_loss: 0.0693 - val_accuracy: 0.9870\n",
      "Epoch 5/50\n",
      "73692/73692 [==============================] - 28s 377us/step - loss: 0.0701 - accuracy: 0.9868 - val_loss: 0.0692 - val_accuracy: 0.9870\n",
      "Epoch 6/50\n",
      "73692/73692 [==============================] - 28s 378us/step - loss: 0.0700 - accuracy: 0.9868 - val_loss: 0.0692 - val_accuracy: 0.9870\n",
      "Epoch 7/50\n",
      "73692/73692 [==============================] - 28s 376us/step - loss: 0.0699 - accuracy: 0.9868 - val_loss: 0.0692 - val_accuracy: 0.9870\n",
      "Epoch 8/50\n",
      "73692/73692 [==============================] - 28s 377us/step - loss: 0.0699 - accuracy: 0.9868 - val_loss: 0.0692 - val_accuracy: 0.9870\n",
      "Epoch 9/50\n",
      "73692/73692 [==============================] - 28s 377us/step - loss: 0.0699 - accuracy: 0.9868 - val_loss: 0.0691 - val_accuracy: 0.9870\n",
      "Epoch 10/50\n",
      "73692/73692 [==============================] - 28s 376us/step - loss: 0.0699 - accuracy: 0.9868 - val_loss: 0.0691 - val_accuracy: 0.9870\n",
      "Epoch 11/50\n",
      "73692/73692 [==============================] - 28s 375us/step - loss: 0.0699 - accuracy: 0.9868 - val_loss: 0.0691 - val_accuracy: 0.9870\n",
      "Epoch 12/50\n",
      "73692/73692 [==============================] - 28s 375us/step - loss: 0.0699 - accuracy: 0.9868 - val_loss: 0.0691 - val_accuracy: 0.9870\n",
      "Epoch 13/50\n",
      "73692/73692 [==============================] - 28s 377us/step - loss: 0.0699 - accuracy: 0.9868 - val_loss: 0.0691 - val_accuracy: 0.9870\n",
      "Epoch 14/50\n",
      "73692/73692 [==============================] - 28s 374us/step - loss: 0.0699 - accuracy: 0.9868 - val_loss: 0.0691 - val_accuracy: 0.9870\n",
      "Epoch 15/50\n",
      "73692/73692 [==============================] - 28s 377us/step - loss: 0.0699 - accuracy: 0.9868 - val_loss: 0.0691 - val_accuracy: 0.9870\n",
      "Epoch 16/50\n",
      "73692/73692 [==============================] - 28s 377us/step - loss: 0.0698 - accuracy: 0.9868 - val_loss: 0.0691 - val_accuracy: 0.9870\n",
      "Epoch 17/50\n",
      "73692/73692 [==============================] - 28s 376us/step - loss: 0.0698 - accuracy: 0.9868 - val_loss: 0.0691 - val_accuracy: 0.9870\n",
      "Epoch 18/50\n",
      "73692/73692 [==============================] - 28s 374us/step - loss: 0.0698 - accuracy: 0.9868 - val_loss: 0.0691 - val_accuracy: 0.9870\n",
      "Epoch 19/50\n",
      "73692/73692 [==============================] - 27s 373us/step - loss: 0.0698 - accuracy: 0.9868 - val_loss: 0.0691 - val_accuracy: 0.9870\n",
      "Epoch 20/50\n",
      "73692/73692 [==============================] - 28s 376us/step - loss: 0.0698 - accuracy: 0.9868 - val_loss: 0.0691 - val_accuracy: 0.9870\n",
      "Epoch 21/50\n",
      "73692/73692 [==============================] - 28s 376us/step - loss: 0.0698 - accuracy: 0.9868 - val_loss: 0.0690 - val_accuracy: 0.9870\n",
      "Epoch 22/50\n",
      "73692/73692 [==============================] - 28s 377us/step - loss: 0.0698 - accuracy: 0.9868 - val_loss: 0.0690 - val_accuracy: 0.9870\n",
      "Epoch 23/50\n",
      "73692/73692 [==============================] - 28s 375us/step - loss: 0.0698 - accuracy: 0.9868 - val_loss: 0.0690 - val_accuracy: 0.9870\n",
      "Epoch 24/50\n",
      "73692/73692 [==============================] - 28s 376us/step - loss: 0.0698 - accuracy: 0.9868 - val_loss: 0.0690 - val_accuracy: 0.9870\n",
      "Epoch 25/50\n",
      "73692/73692 [==============================] - 28s 375us/step - loss: 0.0698 - accuracy: 0.9868 - val_loss: 0.0691 - val_accuracy: 0.9870\n",
      "Epoch 26/50\n",
      "73692/73692 [==============================] - 28s 374us/step - loss: 0.0698 - accuracy: 0.9868 - val_loss: 0.0690 - val_accuracy: 0.9870\n",
      "Epoch 27/50\n",
      "73692/73692 [==============================] - 28s 376us/step - loss: 0.0698 - accuracy: 0.9868 - val_loss: 0.0691 - val_accuracy: 0.9870\n",
      "Epoch 28/50\n",
      "73692/73692 [==============================] - 28s 377us/step - loss: 0.0698 - accuracy: 0.9868 - val_loss: 0.0690 - val_accuracy: 0.9870\n",
      "Epoch 29/50\n",
      "73692/73692 [==============================] - 28s 374us/step - loss: 0.0698 - accuracy: 0.9868 - val_loss: 0.0690 - val_accuracy: 0.9870\n",
      "Epoch 30/50\n",
      "73692/73692 [==============================] - 28s 375us/step - loss: 0.0698 - accuracy: 0.9868 - val_loss: 0.0690 - val_accuracy: 0.9870\n",
      "Epoch 31/50\n",
      "73692/73692 [==============================] - 28s 375us/step - loss: 0.0698 - accuracy: 0.9868 - val_loss: 0.0691 - val_accuracy: 0.9870\n",
      "Epoch 32/50\n",
      "73692/73692 [==============================] - 28s 375us/step - loss: 0.0698 - accuracy: 0.9868 - val_loss: 0.0690 - val_accuracy: 0.9870\n",
      "Epoch 33/50\n",
      "73692/73692 [==============================] - 28s 376us/step - loss: 0.0698 - accuracy: 0.9868 - val_loss: 0.0690 - val_accuracy: 0.9870\n",
      "Epoch 34/50\n",
      "73692/73692 [==============================] - 28s 376us/step - loss: 0.0697 - accuracy: 0.9868 - val_loss: 0.0691 - val_accuracy: 0.9870\n",
      "Epoch 35/50\n",
      "73692/73692 [==============================] - 28s 376us/step - loss: 0.0698 - accuracy: 0.9868 - val_loss: 0.0690 - val_accuracy: 0.9870\n",
      "Epoch 36/50\n",
      "73692/73692 [==============================] - 28s 379us/step - loss: 0.0697 - accuracy: 0.9868 - val_loss: 0.0691 - val_accuracy: 0.9870\n",
      "Epoch 37/50\n",
      "73692/73692 [==============================] - 28s 376us/step - loss: 0.0697 - accuracy: 0.9868 - val_loss: 0.0690 - val_accuracy: 0.9870\n",
      "Epoch 38/50\n",
      "73692/73692 [==============================] - 28s 378us/step - loss: 0.0697 - accuracy: 0.9868 - val_loss: 0.0691 - val_accuracy: 0.9870\n",
      "Epoch 39/50\n",
      "73692/73692 [==============================] - 28s 377us/step - loss: 0.0697 - accuracy: 0.9868 - val_loss: 0.0691 - val_accuracy: 0.9870\n",
      "Epoch 40/50\n",
      "73692/73692 [==============================] - 28s 376us/step - loss: 0.0697 - accuracy: 0.9868 - val_loss: 0.0690 - val_accuracy: 0.9870\n",
      "Epoch 41/50\n",
      "73692/73692 [==============================] - 28s 375us/step - loss: 0.0697 - accuracy: 0.9868 - val_loss: 0.0690 - val_accuracy: 0.9870\n",
      "Epoch 42/50\n",
      "73692/73692 [==============================] - 28s 375us/step - loss: 0.0697 - accuracy: 0.9868 - val_loss: 0.0689 - val_accuracy: 0.9870\n",
      "Epoch 43/50\n",
      "73692/73692 [==============================] - 28s 375us/step - loss: 0.0697 - accuracy: 0.9868 - val_loss: 0.0690 - val_accuracy: 0.9870\n",
      "Epoch 44/50\n",
      "73692/73692 [==============================] - 28s 376us/step - loss: 0.0697 - accuracy: 0.9868 - val_loss: 0.0689 - val_accuracy: 0.9870\n",
      "Epoch 45/50\n",
      "73692/73692 [==============================] - 28s 375us/step - loss: 0.0697 - accuracy: 0.9868 - val_loss: 0.0690 - val_accuracy: 0.9870\n",
      "Epoch 46/50\n",
      "73692/73692 [==============================] - 27s 373us/step - loss: 0.0697 - accuracy: 0.9868 - val_loss: 0.0690 - val_accuracy: 0.9870\n",
      "Epoch 47/50\n",
      "73692/73692 [==============================] - 28s 373us/step - loss: 0.0697 - accuracy: 0.9868 - val_loss: 0.0690 - val_accuracy: 0.9870\n",
      "Epoch 48/50\n",
      "73692/73692 [==============================] - 28s 377us/step - loss: 0.0697 - accuracy: 0.9868 - val_loss: 0.0690 - val_accuracy: 0.9870\n",
      "Epoch 49/50\n",
      "73692/73692 [==============================] - 28s 377us/step - loss: 0.0697 - accuracy: 0.9868 - val_loss: 0.0690 - val_accuracy: 0.9870\n",
      "Epoch 50/50\n",
      "73692/73692 [==============================] - 28s 374us/step - loss: 0.0697 - accuracy: 0.9868 - val_loss: 0.0689 - val_accuracy: 0.9870\n"
     ]
    }
   ],
   "source": [
    "h3 = model3.fit(X_train_erf, Y_train,\n",
    "          batch_size=10, epochs=50,\n",
    "          validation_data=(X_val, Y_val))"
   ]
  },
  {
   "cell_type": "code",
   "execution_count": 42,
   "metadata": {},
   "outputs": [
    {
     "data": {
      "image/png": "[encoded data removed]",
      "text/plain": [
       "<Figure size 432x288 with 1 Axes>"
      ]
     },
     "metadata": {},
     "output_type": "display_data"
    }
   ],
   "source": [
    "plt.plot(h3.history['loss'])\n",
    "plt.plot(h3.history['val_loss'])\n",
    "plt.title('Overall Loss')\n",
    "plt.ylabel('loss')\n",
    "plt.xlabel('epoch')\n",
    "plt.legend(['train', 'test'])\n",
    "plt.show()"
   ]
  }
 ],
 "metadata": {
  "kernelspec": {
   "display_name": "Python 3",
   "language": "python",
   "name": "python3"
  },
  "language_info": {
   "codemirror_mode": {
    "name": "ipython",
    "version": 3
   },
   "file_extension": ".py",
   "mimetype": "text/x-python",
   "name": "python",
   "nbconvert_exporter": "python",
   "pygments_lexer": "ipython3",
   "version": "3.8.3"
  }
 },
 "nbformat": 4,
 "nbformat_minor": 5
}
